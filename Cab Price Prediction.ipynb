{
 "cells": [
  {
   "cell_type": "code",
   "execution_count": 1,
   "metadata": {},
   "outputs": [],
   "source": [
    "# !pip install geopy\n",
    "import numpy as np\n",
    "import pandas as pd\n",
    "import matplotlib.pyplot as plt\n",
    "import seaborn as sns\n",
    "import pandas as pd\n",
    "import matplotlib.pyplot as plt\n",
    "import seaborn as sns\n",
    "import numpy as np\n",
    "import warnings\n",
    "from datetime import datetime\n",
    "import calendar\n",
    "from math import sin, cos, sqrt, atan2, radians,asin\n",
    "import folium\n",
    "from folium import FeatureGroup, LayerControl, Map, Marker\n",
    "from folium.plugins import HeatMap\n",
    "from folium.plugins import TimestampedGeoJson\n",
    "from folium.plugins import MarkerCluster\n",
    "from geopy.distance import great_circle\n",
    "import matplotlib.dates as mdates\n",
    "from datetime import timedelta\n",
    "import datetime as dt\n",
    "warnings.filterwarnings('ignore')\n",
    "pd.set_option('display.max_colwidth', -1)\n",
    "plt.style.use('fivethirtyeight')\n",
    "import folium\n",
    "from sklearn.cluster import KMeans\n",
    "from sklearn import preprocessing\n",
    "from sklearn.model_selection import train_test_split\n",
    "from sklearn.preprocessing import Imputer\n",
    "from sklearn import linear_model\n",
    "from sklearn.metrics import mean_squared_error\n",
    "from sklearn.ensemble import RandomForestRegressor\n",
    "import pickle\n",
    "from geopy.distance import geodesic"
   ]
  },
  {
   "cell_type": "code",
   "execution_count": 2,
   "metadata": {
    "scrolled": true
   },
   "outputs": [
    {
     "data": {
      "text/plain": [
       "fare_amount          float64       \n",
       "pickup_datetime      datetime64[ns]\n",
       "pickup_longitude     float64       \n",
       "pickup_latitude      float64       \n",
       "dropoff_longitude    float64       \n",
       "dropoff_latitude     float64       \n",
       "passenger_count      float64       \n",
       "dtype: object"
      ]
     },
     "execution_count": 2,
     "metadata": {},
     "output_type": "execute_result"
    }
   ],
   "source": [
    "df = pd.read_csv('./Edwisor Cab Fare/train_cab.csv' ,nrows = 16067, parse_dates=['pickup_datetime'])\n",
    "\n",
    "# df = pd.read_csv('C:/Users/nsida/Cab fare prediction//train_cab.csv', nrows= 16066, encoding = \"utf-8\")\n",
    "\n",
    "date1 = pd.to_datetime(df['pickup_datetime'],format='%Y-%m-%d %H:%M:%S UTC', errors='coerce')\n",
    "date2 = pd.to_datetime(df['pickup_datetime'],format='%Y-%m-%d UTC', errors='coerce')\n",
    "    \n",
    "df['pickup_datetime'] = date1.combine_first(date2)\n",
    "\n",
    "data = df.dropna()\n",
    "df.dtypes\n",
    "# de1.head(10)"
   ]
  },
  {
   "cell_type": "code",
   "execution_count": 3,
   "metadata": {},
   "outputs": [
    {
     "data": {
      "text/plain": [
       "fare_amount          float64       \n",
       "pickup_datetime      datetime64[ns]\n",
       "pickup_longitude     float64       \n",
       "pickup_latitude      float64       \n",
       "dropoff_longitude    float64       \n",
       "dropoff_latitude     float64       \n",
       "passenger_count      float64       \n",
       "dtype: object"
      ]
     },
     "execution_count": 3,
     "metadata": {},
     "output_type": "execute_result"
    }
   ],
   "source": [
    "# Covert the Data types\n",
    "del df['fare_amount'][1123]\n",
    "#Deleting the row with Special Charater\n",
    "\n",
    "# TO DO - Watch How to remove the Check if there is any special characters(Bone) inside the Fish(Column) to ensure no Frustration\n",
    "df['fare_amount'] = pd.to_numeric(df['fare_amount'])\n",
    "df.dtypes"
   ]
  },
  {
   "cell_type": "markdown",
   "metadata": {},
   "source": []
  },
  {
   "cell_type": "code",
   "execution_count": 4,
   "metadata": {},
   "outputs": [
    {
     "data": {
      "text/html": [
       "<div>\n",
       "<style scoped>\n",
       "    .dataframe tbody tr th:only-of-type {\n",
       "        vertical-align: middle;\n",
       "    }\n",
       "\n",
       "    .dataframe tbody tr th {\n",
       "        vertical-align: top;\n",
       "    }\n",
       "\n",
       "    .dataframe thead th {\n",
       "        text-align: right;\n",
       "    }\n",
       "</style>\n",
       "<table border=\"1\" class=\"dataframe\">\n",
       "  <thead>\n",
       "    <tr style=\"text-align: right;\">\n",
       "      <th></th>\n",
       "      <th>fare_amount</th>\n",
       "      <th>pickup_datetime</th>\n",
       "      <th>pickup_longitude</th>\n",
       "      <th>pickup_latitude</th>\n",
       "      <th>dropoff_longitude</th>\n",
       "      <th>dropoff_latitude</th>\n",
       "      <th>passenger_count</th>\n",
       "      <th>pickup_date</th>\n",
       "      <th>pickup_day</th>\n",
       "      <th>pickup_hour</th>\n",
       "    </tr>\n",
       "  </thead>\n",
       "  <tbody>\n",
       "    <tr>\n",
       "      <th>0</th>\n",
       "      <td>4.5</td>\n",
       "      <td>2009-06-15 17:26:21</td>\n",
       "      <td>-73.844311</td>\n",
       "      <td>40.721319</td>\n",
       "      <td>-73.841610</td>\n",
       "      <td>40.712278</td>\n",
       "      <td>1.0</td>\n",
       "      <td>2009-06-15</td>\n",
       "      <td>15</td>\n",
       "      <td>17</td>\n",
       "    </tr>\n",
       "    <tr>\n",
       "      <th>1</th>\n",
       "      <td>16.9</td>\n",
       "      <td>2010-01-05 16:52:16</td>\n",
       "      <td>-74.016048</td>\n",
       "      <td>40.711303</td>\n",
       "      <td>-73.979268</td>\n",
       "      <td>40.782004</td>\n",
       "      <td>1.0</td>\n",
       "      <td>2010-01-05</td>\n",
       "      <td>5</td>\n",
       "      <td>16</td>\n",
       "    </tr>\n",
       "    <tr>\n",
       "      <th>2</th>\n",
       "      <td>5.7</td>\n",
       "      <td>2011-08-18 00:35:00</td>\n",
       "      <td>-73.982738</td>\n",
       "      <td>40.761270</td>\n",
       "      <td>-73.991242</td>\n",
       "      <td>40.750562</td>\n",
       "      <td>2.0</td>\n",
       "      <td>2011-08-18</td>\n",
       "      <td>18</td>\n",
       "      <td>0</td>\n",
       "    </tr>\n",
       "    <tr>\n",
       "      <th>3</th>\n",
       "      <td>7.7</td>\n",
       "      <td>2012-04-21 04:30:42</td>\n",
       "      <td>-73.987130</td>\n",
       "      <td>40.733143</td>\n",
       "      <td>-73.991567</td>\n",
       "      <td>40.758092</td>\n",
       "      <td>1.0</td>\n",
       "      <td>2012-04-21</td>\n",
       "      <td>21</td>\n",
       "      <td>4</td>\n",
       "    </tr>\n",
       "    <tr>\n",
       "      <th>4</th>\n",
       "      <td>5.3</td>\n",
       "      <td>2010-03-09 07:51:00</td>\n",
       "      <td>-73.968095</td>\n",
       "      <td>40.768008</td>\n",
       "      <td>-73.956655</td>\n",
       "      <td>40.783762</td>\n",
       "      <td>1.0</td>\n",
       "      <td>2010-03-09</td>\n",
       "      <td>9</td>\n",
       "      <td>7</td>\n",
       "    </tr>\n",
       "  </tbody>\n",
       "</table>\n",
       "</div>"
      ],
      "text/plain": [
       "   fare_amount     pickup_datetime  pickup_longitude  pickup_latitude  \\\n",
       "0  4.5         2009-06-15 17:26:21 -73.844311         40.721319         \n",
       "1  16.9        2010-01-05 16:52:16 -74.016048         40.711303         \n",
       "2  5.7         2011-08-18 00:35:00 -73.982738         40.761270         \n",
       "3  7.7         2012-04-21 04:30:42 -73.987130         40.733143         \n",
       "4  5.3         2010-03-09 07:51:00 -73.968095         40.768008         \n",
       "\n",
       "   dropoff_longitude  dropoff_latitude  passenger_count pickup_date  \\\n",
       "0 -73.841610          40.712278         1.0              2009-06-15   \n",
       "1 -73.979268          40.782004         1.0              2010-01-05   \n",
       "2 -73.991242          40.750562         2.0              2011-08-18   \n",
       "3 -73.991567          40.758092         1.0              2012-04-21   \n",
       "4 -73.956655          40.783762         1.0              2010-03-09   \n",
       "\n",
       "   pickup_day  pickup_hour  \n",
       "0  15          17           \n",
       "1  5           16           \n",
       "2  18          0            \n",
       "3  21          4            \n",
       "4  9           7            "
      ]
     },
     "execution_count": 4,
     "metadata": {},
     "output_type": "execute_result"
    }
   ],
   "source": [
    "df['pickup_date'] = df['pickup_datetime'].dt.date\n",
    "df['pickup_day']= df['pickup_datetime'].apply(lambda x:x.day)\n",
    "df['pickup_hour']= df['pickup_datetime'].apply(lambda x:x.hour)\n",
    "# df['pickup_day_of_week']= df['pickup_datetime'].apply(lambda x:calendar.day_name[x.weekday()])\n",
    "# df['pickup_month']=df['pickup_datetime'].apply(lambda x:x.month)\n",
    "# df['pickup_year']=df['pickup_datetime'].apply(lambda x:x.year)\n",
    "df.head()"
   ]
  },
  {
   "cell_type": "code",
   "execution_count": null,
   "metadata": {},
   "outputs": [],
   "source": [
    "# Checking for Null Values\n",
    "df[pd.isna(df)].sum()"
   ]
  },
  {
   "cell_type": "code",
   "execution_count": 6,
   "metadata": {
    "scrolled": true
   },
   "outputs": [
    {
     "name": "stdout",
     "output_type": "stream",
     "text": [
      "Old Size is 16065\n",
      "New Size is 16065 \n"
     ]
    }
   ],
   "source": [
    "print('Old Size is %d' % len(df))\n",
    "df['fare_amount'] = df['fare_amount'].where(df['fare_amount']>=0)\n",
    "print('New Size is %d ' % len(df))"
   ]
  },
  {
   "cell_type": "code",
   "execution_count": 7,
   "metadata": {},
   "outputs": [
    {
     "data": {
      "text/plain": [
       "Text(0.5, 1.0, 'Histogram')"
      ]
     },
     "execution_count": 7,
     "metadata": {},
     "output_type": "execute_result"
    },
    {
     "data": {
      "image/png": "[encoded data removed]",
      "text/plain": [
       "<Figure size 1008x216 with 1 Axes>"
      ]
     },
     "metadata": {
      "needs_background": "light"
     },
     "output_type": "display_data"
    }
   ],
   "source": [
    "#Plotting a Histogram for Analyzing the Fare Amount\n",
    "df[df.fare_amount<100].fare_amount.hist(bins=100, figsize=(14,3))\n",
    "plt.xlabel('Fare in USD')\n",
    "plt.title(\"Histogram\")\n",
    "#Here we observed that most of the Cab fare are between 0-20 $\n",
    "# There is almost no Cab who's fare is greater than 60$"
   ]
  },
  {
   "cell_type": "code",
   "execution_count": 7,
   "metadata": {},
   "outputs": [
    {
     "data": {
      "text/plain": [
       "Text(0.5, 1.0, 'Distribution of Plot Fare')"
      ]
     },
     "execution_count": 7,
     "metadata": {},
     "output_type": "execute_result"
    },
    {
     "data": {
      "image/png": "[encoded data removed]",
      "text/plain": [
       "<Figure size 864x576 with 1 Axes>"
      ]
     },
     "metadata": {
      "needs_background": "light"
     },
     "output_type": "display_data"
    }
   ],
   "source": [
    "# Using Seaborn Plotting the same Fare or Trip amount\n",
    "plt.figure(figsize=(12,8))\n",
    "sns.kdeplot(df['fare_amount']).set_title(\"Distribution of Plot Fare\")"
   ]
  },
  {
   "cell_type": "code",
   "execution_count": 8,
   "metadata": {},
   "outputs": [
    {
     "data": {
      "text/plain": [
       "Text(0.5, 1.0, 'Distribution of Plot Fare on Logaramatic Scale')"
      ]
     },
     "execution_count": 8,
     "metadata": {},
     "output_type": "execute_result"
    },
    {
     "data": {
      "image/png": "[encoded data removed]",
      "text/plain": [
       "<Figure size 864x576 with 1 Axes>"
      ]
     },
     "metadata": {
      "needs_background": "light"
     },
     "output_type": "display_data"
    }
   ],
   "source": [
    "plt.figure(figsize=(12,8))\n",
    "sns.kdeplot(np.log(df['fare_amount'].values)).set_title(\"Distribution of Plot Fare on Logaramatic Scale\")"
   ]
  },
  {
   "cell_type": "markdown",
   "metadata": {},
   "source": [
    "# Let us look at Geographical Features and Fare Amount\n",
    "Distribution of Pickup and Dropoff Lat Lng\n",
    "\n"
   ]
  },
  {
   "cell_type": "code",
   "execution_count": 9,
   "metadata": {},
   "outputs": [
    {
     "name": "stdout",
     "output_type": "stream",
     "text": [
      ">> Data Available since 0.0\n",
      ">> Data Available upto 54343.0\n"
     ]
    }
   ],
   "source": [
    "print(f\">> Data Available since {df.fare_amount.min()}\")\n",
    "print(f\">> Data Available upto {df.fare_amount.max()}\")"
   ]
  },
  {
   "cell_type": "code",
   "execution_count": 10,
   "metadata": {},
   "outputs": [
    {
     "data": {
      "text/plain": [
       "fare_amount          0.0\n",
       "pickup_datetime      0.0\n",
       "pickup_longitude     0.0\n",
       "pickup_latitude      0.0\n",
       "dropoff_longitude    0.0\n",
       "dropoff_latitude     0.0\n",
       "passenger_count      0.0\n",
       "pickup_date          0.0\n",
       "pickup_day           0.0\n",
       "pickup_hour          0.0\n",
       "dtype: float64"
      ]
     },
     "execution_count": 10,
     "metadata": {},
     "output_type": "execute_result"
    }
   ],
   "source": [
    "# Checking for Null values\n",
    "df[pd.isnull(df)].sum()"
   ]
  },
  {
   "cell_type": "markdown",
   "metadata": {},
   "source": [
    "# Exploratory Data Analysis"
   ]
  },
  {
   "cell_type": "markdown",
   "metadata": {},
   "source": [
    "Let's Plot a HeatMap with Seaborn to see the correlation between the Variables"
   ]
  },
  {
   "cell_type": "code",
   "execution_count": 11,
   "metadata": {},
   "outputs": [
    {
     "data": {
      "image/png": "[encoded data removed]",
      "text/plain": [
       "<Figure size 2160x1440 with 2 Axes>"
      ]
     },
     "metadata": {
      "needs_background": "light"
     },
     "output_type": "display_data"
    }
   ],
   "source": [
    "corrmat = df.corr()\n",
    "top_corr_features = corrmat.index\n",
    "top_corr_features\n",
    "plt.figure(figsize=(30,20))\n",
    "#plot heat map\n",
    "g=sns.heatmap(df[top_corr_features].corr(),annot=True,cmap=\"RdYlGn\")"
   ]
  },
  {
   "cell_type": "code",
   "execution_count": 12,
   "metadata": {},
   "outputs": [
    {
     "name": "stdout",
     "output_type": "stream",
     "text": [
      "Shape of the Data (16065, 10)\n"
     ]
    }
   ],
   "source": [
    "# Checking the Distribution of the Data\n",
    "df.dtypes\n",
    "print(\"Shape of the Data\",df.shape)\n",
    "df1 = df['pickup_datetime']"
   ]
  },
  {
   "cell_type": "code",
   "execution_count": 13,
   "metadata": {},
   "outputs": [],
   "source": [
    "traintypes = {'fare_amount': 'float32',\n",
    "              'pickup_datetime': 'str', \n",
    "              'pickup_longitude': 'float32',\n",
    "              'pickup_latitude': 'float32',\n",
    "              'dropoff_longitude': 'float32',\n",
    "              'dropoff_latitude': 'float32',\n",
    "              'passenger_count': 'uint8'}\n",
    "\n",
    "cols = list(traintypes.keys())"
   ]
  },
  {
   "cell_type": "code",
   "execution_count": 14,
   "metadata": {},
   "outputs": [],
   "source": [
    "df['Datetime']=pd.to_datetime('2009-06-15 17:26:21 UTC',format='%Y-%m-%d %H:%M:%S UTC')"
   ]
  },
  {
   "cell_type": "code",
   "execution_count": 15,
   "metadata": {},
   "outputs": [
    {
     "data": {
      "text/plain": [
       "fare_amount          float64       \n",
       "pickup_datetime      datetime64[ns]\n",
       "pickup_longitude     float64       \n",
       "pickup_latitude      float64       \n",
       "dropoff_longitude    float64       \n",
       "dropoff_latitude     float64       \n",
       "passenger_count      float64       \n",
       "pickup_date          object        \n",
       "pickup_day           int64         \n",
       "pickup_hour          int64         \n",
       "Datetime             datetime64[ns]\n",
       "dtype: object"
      ]
     },
     "execution_count": 15,
     "metadata": {},
     "output_type": "execute_result"
    }
   ],
   "source": [
    "df.dtypes"
   ]
  },
  {
   "cell_type": "code",
   "execution_count": 16,
   "metadata": {},
   "outputs": [],
   "source": [
    "# Now we will be taking a look at Geographical Features and their Relationship with Fare amount\n",
    "# Distribution of Pickup and Dropoff Latitude Longitude"
   ]
  },
  {
   "cell_type": "code",
   "execution_count": 17,
   "metadata": {},
   "outputs": [
    {
     "name": "stdout",
     "output_type": "stream",
     "text": [
      "Range of Pickup Latitude is  -74.006893 401.083332\n"
     ]
    }
   ],
   "source": [
    "print('Range of Pickup Latitude is ', min(df['pickup_latitude']), max(df['pickup_latitude']))"
   ]
  },
  {
   "cell_type": "code",
   "execution_count": 18,
   "metadata": {},
   "outputs": [
    {
     "name": "stdout",
     "output_type": "stream",
     "text": [
      "Range of Pickup Latitude is  -74.006377 40.802437\n"
     ]
    }
   ],
   "source": [
    "print('Range of Pickup Latitude is ', min(df['dropoff_latitude']), max(df['dropoff_longitude']))"
   ]
  },
  {
   "cell_type": "markdown",
   "metadata": {
    "scrolled": true
   },
   "source": [
    "The data is for Taxi Rides in Newyork, whose center lat, lng is at ((40,-74).The range of dropoff and pickup latitudes indicates lot of outlier locations in the train data.\n",
    "\n"
   ]
  },
  {
   "cell_type": "code",
   "execution_count": 82,
   "metadata": {},
   "outputs": [
    {
     "name": "stdout",
     "output_type": "stream",
     "text": [
      "Longitude Boundaries in the test data\n"
     ]
    }
   ],
   "source": [
    "# Before we move ahead and Identify outliertye location, let us read the test data and see what the boundaries are\n",
    "test = pd.read_csv('C:/Users/admin/Edwisor Cab Fare/test.csv')\n",
    "print(\"Longitude Boundaries in the test data\")\n",
    "min(test.pickup_longitude.min(), test.dropoff_longitude.min()),max(test.pickup_longitude.max(), test.dropoff_longitude.max())\n",
    "\n",
    "date1 = pd.to_datetime(test['pickup_datetime'],format='%Y-%m-%d %H:%M:%S UTC', errors='coerce')\n",
    "date2 = pd.to_datetime(test['pickup_datetime'],format='%Y-%m-%d %H:M UTC', errors='coerce')\n",
    "    \n",
    "test['pickup_datetime'] = date1.combine_first(date2)\n",
    "# test['pickup_hour']= test['pickup_datetime'].apply(lambda x:x.hour)\n",
    "# test['pickup_date'] = test['pickup_datetime'].dt.date\n",
    "test['pickup_day']= test['pickup_datetime'].apply(lambda x:x.day)\n",
    "test['pickup_hour']= test['pickup_datetime'].apply(lambda x:x.hour)"
   ]
  },
  {
   "cell_type": "code",
   "execution_count": 70,
   "metadata": {},
   "outputs": [
    {
     "name": "stdout",
     "output_type": "stream",
     "text": [
      "Latitude Boundaries in the test data\n"
     ]
    },
    {
     "data": {
      "text/plain": [
       "(40.568973, 41.709555)"
      ]
     },
     "execution_count": 70,
     "metadata": {},
     "output_type": "execute_result"
    }
   ],
   "source": [
    "print(\"Latitude Boundaries in the test data\")\n",
    "min(test.pickup_latitude.min(), test.dropoff_latitude.min()),max(test.pickup_latitude.max(), test.dropoff_latitude.max())"
   ]
  },
  {
   "cell_type": "code",
   "execution_count": 54,
   "metadata": {},
   "outputs": [],
   "source": [
    "# Drawing a Map on top of ZGood \n",
    "\n",
    "# !pip install gmplot\n",
    "import gmplot \n",
    "gmap3 = gmplot.GoogleMapPlotter(30.3164945, \n",
    "                                78.03219179999999, 13) \n",
    "\n",
    "gmap3.scatter(df['pickup_latitude'],df['pickup_longitude'] , '# FF0000', \n",
    "                              size = 40, marker = False ) \n",
    "  \n",
    "# Plot method Draw a line in \n",
    "# between given coordinates \n",
    "gmap3.plot(df['dropoff_latitude'], df['dropoff_longitude'],  \n",
    "           'cornflowerblue', edge_width = 2.5) \n",
    "  \n",
    "gmap3.draw( \"C://Users/admin/map13.html\")"
   ]
  },
  {
   "cell_type": "code",
   "execution_count": null,
   "metadata": {},
   "outputs": [],
   "source": [
    "df.describe()"
   ]
  },
  {
   "cell_type": "code",
   "execution_count": null,
   "metadata": {},
   "outputs": [],
   "source": [
    "# Let us set the boundary for the train data also based on test data latitude and longitude boundaries.\n",
    "# We will mark the locations as 1 and remove them for further analysis\n",
    "boundary={'min_lng':-74.263242,\n",
    "              'min_lat':40.568973,\n",
    "              'max_lng':-72.986532,\n",
    "              'max_lat':41.709555}"
   ]
  },
  {
   "cell_type": "markdown",
   "metadata": {},
   "source": [
    "# We will also be checking if there any cases where the latitude longitude is zero, if Yes. How many such cases are there in our Data?\n"
   ]
  },
  {
   "cell_type": "code",
   "execution_count": null,
   "metadata": {},
   "outputs": [],
   "source": [
    "df[(df.pickup_latitude == 0) | (df.pickup_longitude == 0) | (df.dropoff_latitude == 0) | (df.dropoff_longitude == 0)].shape"
   ]
  },
  {
   "cell_type": "markdown",
   "metadata": {},
   "source": [
    "# So we got to know there are 326 rows having their latitude and longitude as zero. These are Trips or rides that mistakenly got their latitudes and Longitudes zero for some reason. Could be due to Malfunctioning of the System or some other reasons too. We don't know"
   ]
  },
  {
   "cell_type": "code",
   "execution_count": null,
   "metadata": {},
   "outputs": [],
   "source": [
    "df.loc[~((df.pickup_longitude >= boundary['min_lng'] ) & (df.pickup_longitude <= boundary['max_lng']) &\n",
    "            (df.pickup_latitude >= boundary['min_lat']) & (df.pickup_latitude <= boundary['max_lat']) &\n",
    "            (df.dropoff_longitude >= boundary['min_lng']) & (df.dropoff_longitude <= boundary['max_lng']) &\n",
    "            (df.dropoff_latitude >=boundary['min_lat']) & (df.dropoff_latitude <= boundary['max_lat'])),'is_outlier_loc']=1\n",
    "df.loc[((df.pickup_longitude >= boundary['min_lng'] ) & (df.pickup_longitude <= boundary['max_lng']) &\n",
    "            (df.pickup_latitude >= boundary['min_lat']) & (df.pickup_latitude <= boundary['max_lat']) &\n",
    "            (df.dropoff_longitude >= boundary['min_lng']) & (df.dropoff_longitude <= boundary['max_lng']) &\n",
    "            (df.dropoff_latitude >=boundary['min_lat']) & (df.dropoff_latitude <= boundary['max_lat'])),'is_outlier_loc']=0\n",
    "\n",
    "print(\"Outlier vs Non Outlier Counts\")\n",
    "print(df['is_outlier_loc'].value_counts())\n",
    "\n",
    "# So now let's Drop some rows, where location is an outlier\n",
    "df = df.loc[df['is_outlier_loc']==0]\n",
    "df.drop(['is_outlier_loc'], axis=1, inplace=True)"
   ]
  },
  {
   "cell_type": "code",
   "execution_count": 22,
   "metadata": {},
   "outputs": [
    {
     "data": {
      "text/plain": [
       "(16065, 11)"
      ]
     },
     "execution_count": 22,
     "metadata": {},
     "output_type": "execute_result"
    }
   ],
   "source": [
    "# Plot Heatmap of Pickups and Dropoffs within NYC\n",
    "df.shape"
   ]
  },
  {
   "cell_type": "code",
   "execution_count": 23,
   "metadata": {},
   "outputs": [
    {
     "data": {
      "text/plain": [
       "Text(0.5, 1.0, 'Dropoff Within the New York City Border')"
      ]
     },
     "execution_count": 23,
     "metadata": {},
     "output_type": "execute_result"
    },
    {
     "data": {
      "image/png": "[encoded data removed]",
      "text/plain": [
       "<Figure size 432x288 with 1 Axes>"
      ]
     },
     "metadata": {
      "needs_background": "light"
     },
     "output_type": "display_data"
    }
   ],
   "source": [
    "# Plot Heatmap of Pickups and Dropoffs within NYC we set the Borders as-\n",
    "city_long_border = (-74.03, -73.75)\n",
    "city_lat_border = (40.63, 40.85)\n",
    "\n",
    "df.plot(kind = 'scatter', x='dropoff_longitude', y='dropoff_latitude', \n",
    "       color='green', s=0.2, alpha=.6)\n",
    "plt.title(\"Dropoff Within the New York City Border\")\n"
   ]
  },
  {
   "cell_type": "code",
   "execution_count": 24,
   "metadata": {},
   "outputs": [
    {
     "data": {
      "text/plain": [
       "(-74.03, -73.75)"
      ]
     },
     "execution_count": 24,
     "metadata": {},
     "output_type": "execute_result"
    },
    {
     "data": {
      "image/png": "[encoded data removed]",
      "text/plain": [
       "<Figure size 432x288 with 1 Axes>"
      ]
     },
     "metadata": {
      "needs_background": "light"
     },
     "output_type": "display_data"
    }
   ],
   "source": [
    "df.plot(kind='scatter', x = 'pickup_longitude', y='pickup_latitude', \n",
    "       color='blue',\n",
    "       s=0.02, alpha=0.6)\n",
    "plt.title(\"Pickup\")\n",
    "plt.xlabel(\"\")\n",
    "\n",
    "plt.ylim(city_lat_border)\n",
    "plt.xlim(city_long_border)"
   ]
  },
  {
   "attachments": {
    "image.png": {
     "image/png": "[encoded data removed]"
    }
   },
   "cell_type": "markdown",
   "metadata": {},
   "source": [
    "![image.png](attachment:image.png)"
   ]
  },
  {
   "cell_type": "markdown",
   "metadata": {},
   "source": [
    "We can see lots of pickups around JFK and LaGuardia Airport, We can also see pickups at manhattan around that place. "
   ]
  },
  {
   "cell_type": "code",
   "execution_count": 25,
   "metadata": {},
   "outputs": [
    {
     "data": {
      "text/html": [
       "<div>\n",
       "<style scoped>\n",
       "    .dataframe tbody tr th:only-of-type {\n",
       "        vertical-align: middle;\n",
       "    }\n",
       "\n",
       "    .dataframe tbody tr th {\n",
       "        vertical-align: top;\n",
       "    }\n",
       "\n",
       "    .dataframe thead th {\n",
       "        text-align: right;\n",
       "    }\n",
       "</style>\n",
       "<table border=\"1\" class=\"dataframe\">\n",
       "  <thead>\n",
       "    <tr style=\"text-align: right;\">\n",
       "      <th></th>\n",
       "      <th>pickup_latitude_round3</th>\n",
       "      <th>pickup_longitude_round3</th>\n",
       "      <th>avg_fare</th>\n",
       "    </tr>\n",
       "  </thead>\n",
       "  <tbody>\n",
       "    <tr>\n",
       "      <th>0</th>\n",
       "      <td>-74.007</td>\n",
       "      <td>40.729</td>\n",
       "      <td>15.0</td>\n",
       "    </tr>\n",
       "    <tr>\n",
       "      <th>1</th>\n",
       "      <td>-74.006</td>\n",
       "      <td>40.737</td>\n",
       "      <td>52.0</td>\n",
       "    </tr>\n",
       "    <tr>\n",
       "      <th>2</th>\n",
       "      <td>-73.993</td>\n",
       "      <td>40.764</td>\n",
       "      <td>15.5</td>\n",
       "    </tr>\n",
       "    <tr>\n",
       "      <th>3</th>\n",
       "      <td>-73.992</td>\n",
       "      <td>40.748</td>\n",
       "      <td>6.5</td>\n",
       "    </tr>\n",
       "    <tr>\n",
       "      <th>4</th>\n",
       "      <td>-73.988</td>\n",
       "      <td>40.720</td>\n",
       "      <td>11.0</td>\n",
       "    </tr>\n",
       "  </tbody>\n",
       "</table>\n",
       "</div>"
      ],
      "text/plain": [
       "   pickup_latitude_round3  pickup_longitude_round3  avg_fare\n",
       "0 -74.007                  40.729                   15.0    \n",
       "1 -74.006                  40.737                   52.0    \n",
       "2 -73.993                  40.764                   15.5    \n",
       "3 -73.992                  40.748                   6.5     \n",
       "4 -73.988                  40.720                   11.0    "
      ]
     },
     "execution_count": 25,
     "metadata": {},
     "output_type": "execute_result"
    }
   ],
   "source": [
    "# Let's round the pickup and Dropoff latitude longitude to 3 decimal places\n",
    "df['pickup_latitude_round3']=df['pickup_latitude'].apply(lambda x:round(x,3))\n",
    "df['pickup_longitude_round3']=df['pickup_longitude'].apply(lambda x:round(x,3))\n",
    "df['dropoff_latitude_round3']=df['dropoff_latitude'].apply(lambda x:round(x,3))\n",
    "df['dropoff_longitude_round3']=df['dropoff_longitude'].apply(lambda x:round(x,3))\n",
    "pickup_fare_amount=df.groupby(['pickup_latitude_round3','pickup_longitude_round3'])['fare_amount'].mean().reset_index().rename(columns={'fare_amount':'avg_fare'})\n",
    "pickup_fare_amount.head()"
   ]
  },
  {
   "cell_type": "code",
   "execution_count": 26,
   "metadata": {},
   "outputs": [
    {
     "name": "stdout",
     "output_type": "stream",
     "text": [
      "Number of Trips with Pickups from JFK 245\n",
      "Number of Trips with Dropoffs to JFK 119\n"
     ]
    }
   ],
   "source": [
    "JFK={'min_lng':-73.8352,\n",
    "     'min_lat':40.6195,\n",
    "     'max_lng':-73.7401, \n",
    "     'max_lat':40.6659}\n",
    "JFK_center=[40.6437,-73.7900]\n",
    "# Get all pickups to JFK\n",
    "JFK_data=df.loc[(df.pickup_latitude>=JFK['min_lat']) & (df.pickup_latitude<=JFK['max_lat'])]\n",
    "JFK_data=JFK_data.loc[(df.pickup_longitude>=JFK['min_lng']) & (df.pickup_longitude<=JFK['max_lng'])]\n",
    "\n",
    "print(\"Number of Trips with Pickups from JFK\",JFK_data.shape[0])\n",
    "\n",
    "JFK_dropoff=df.loc[(df.dropoff_latitude>=JFK['min_lat']) & (df.dropoff_latitude<=JFK['max_lat'])]\n",
    "JFK_dropoff=JFK_dropoff.loc[(df.dropoff_longitude>=JFK['min_lng']) & (df.dropoff_longitude<=JFK['max_lng'])]\n",
    "\n",
    "print(\"Number of Trips with Dropoffs to JFK\",JFK_dropoff.shape[0])\n",
    "\n",
    "\n",
    "# Create a folium map with JFK as the center \n",
    "m=folium.Map(location =JFK_center,zoom_start = 10,)\n",
    "folium.Marker(location=JFK_center, popup='JFK Airport',icon=folium.Icon(color='black')).add_to(m)\n",
    "\n",
    "mc = MarkerCluster().add_to(m)\n",
    "#Add markers in blue for each pickup location and line between JFK and Pickup location over time. The thickness of line indicates the fare_amount\n",
    "\n",
    "for index,row in JFK_data.iterrows():\n",
    "    folium.Marker([row['dropoff_latitude'],row['dropoff_longitude']]).add_to(m)"
   ]
  },
  {
   "cell_type": "code",
   "execution_count": 27,
   "metadata": {},
   "outputs": [],
   "source": [
    "# As we can see, the fare amount is much higher when pickup is from JFK."
   ]
  },
  {
   "cell_type": "code",
   "execution_count": 28,
   "metadata": {},
   "outputs": [
    {
     "data": {
      "text/plain": [
       "Text(0.5, 1.0, 'Fare Amount Distribution')"
      ]
     },
     "execution_count": 28,
     "metadata": {},
     "output_type": "execute_result"
    },
    {
     "data": {
      "image/png": "[encoded data removed]",
      "text/plain": [
       "<Figure size 576x360 with 1 Axes>"
      ]
     },
     "metadata": {
      "needs_background": "light"
     },
     "output_type": "display_data"
    }
   ],
   "source": [
    "# We would like to know what is the average fare of trips when the pickups is around JFK\n",
    "plt.figure(figsize=(8,5))\n",
    "sns.kdeplot(np.log(JFK_data['fare_amount'].values),label='JFK Pickups')\n",
    "sns.kdeplot(np.log(JFK_dropoff['fare_amount'].values),label='JFK Dropoff')\n",
    "sns.kdeplot(np.log(df['fare_amount'].values),label='All Trips in Train data')\n",
    "plt.title(\"Fare Amount Distribution\")"
   ]
  },
  {
   "cell_type": "code",
   "execution_count": 29,
   "metadata": {},
   "outputs": [],
   "source": [
    "del JFK_data\n",
    "del JFK\n",
    "del JFK_dropoff"
   ]
  },
  {
   "cell_type": "code",
   "execution_count": 30,
   "metadata": {},
   "outputs": [],
   "source": [
    "## Based on the above, let us create a function to see whether pickup or dropoff is an Airport. \n",
    "\n",
    "\n",
    "def isAirport(latitude,longitude,airport_name='JFK'):\n",
    "    if airport_name=='JFK':\n",
    "        boundary={'min_lng':-73.8352,\n",
    "     'min_lat':40.6195,\n",
    "     'max_lng':-73.7401, \n",
    "     'max_lat':40.6659}\n",
    "    elif airport_name=='EWR':\n",
    "        boundary={\n",
    "            'min_lng':-74.1925,\n",
    "            'min_lat':40.6700, \n",
    "            'max_lng':-74.1531, \n",
    "            'max_lat':40.7081\n",
    "\n",
    "        }\n",
    "    elif airport_name=='la guardia':\n",
    "        boundary={'min_lng':-73.8895, \n",
    "                  'min_lat':40.7664, \n",
    "                  'max_lng':-73.8550, \n",
    "                  'max_lat':40.7931\n",
    "                 }\n",
    "    if latitude>=boundary['min_lat'] and latitude<=boundary['max_lat']:\n",
    "        if longitude>=boundary['min_lng'] and longitude<=boundary['max_lng']:\n",
    "            return 1\n",
    "    else:\n",
    "        return 0\n",
    "        \n",
    "\n",
    "\n",
    "\n",
    "\n",
    "nyc_airports={'JFK':{'min_lng':-73.8352,\n",
    "     'min_lat':40.6195,\n",
    "     'max_lng':-73.7401, \n",
    "     'max_lat':40.6659},\n",
    "              \n",
    "    'EWR':{'min_lng':-74.1925,\n",
    "            'min_lat':40.6700, \n",
    "            'max_lng':-74.1531, \n",
    "            'max_lat':40.7081\n",
    "\n",
    "        },\n",
    "    'LaGuardia':{'min_lng':-73.8895, \n",
    "                  'min_lat':40.7664, \n",
    "                  'max_lng':-73.8550, \n",
    "                  'max_lat':40.7931\n",
    "        \n",
    "    }\n",
    "    \n",
    "}\n",
    "def isAirport(latitude,longitude,airport_name='JFK'):\n",
    "    \n",
    "    if latitude>=nyc_airports[airport_name]['min_lat'] and latitude<=nyc_airports[airport_name]['max_lat'] and longitude>=nyc_airports[airport_name]['min_lng'] and longitude<=nyc_airports[airport_name]['max_lng']:\n",
    "        return 1\n",
    "    else:\n",
    "        return 0\n",
    "        "
   ]
  },
  {
   "cell_type": "code",
   "execution_count": 31,
   "metadata": {},
   "outputs": [],
   "source": [
    "df['is_pickup_JFK']=df.apply(lambda row:isAirport(row['pickup_latitude'],row['pickup_longitude'],'JFK'),axis=1)\n",
    "df['is_dropoff_JFK']=df.apply(lambda row:isAirport(row['dropoff_latitude'],row['dropoff_longitude'],'JFK'),axis=1)"
   ]
  },
  {
   "cell_type": "code",
   "execution_count": 32,
   "metadata": {},
   "outputs": [
    {
     "data": {
      "text/plain": [
       "0       NaN\n",
       "1       NaN\n",
       "2       NaN\n",
       "3       NaN\n",
       "4       NaN\n",
       "5       NaN\n",
       "6       NaN\n",
       "7       NaN\n",
       "8       NaN\n",
       "9       NaN\n",
       "10      NaN\n",
       "11      NaN\n",
       "12      NaN\n",
       "13      NaN\n",
       "14      NaN\n",
       "15      NaN\n",
       "16      NaN\n",
       "17      NaN\n",
       "18      NaN\n",
       "19      NaN\n",
       "20      NaN\n",
       "21      NaN\n",
       "22      NaN\n",
       "23      NaN\n",
       "24      NaN\n",
       "25      NaN\n",
       "26      NaN\n",
       "27      NaN\n",
       "28      NaN\n",
       "29      NaN\n",
       "         ..\n",
       "16035   NaN\n",
       "16036   NaN\n",
       "16037   NaN\n",
       "16038   NaN\n",
       "16039   NaN\n",
       "16040   NaN\n",
       "16041   NaN\n",
       "16042   NaN\n",
       "16043   NaN\n",
       "16044   NaN\n",
       "16045   NaN\n",
       "16046   NaN\n",
       "16047   NaN\n",
       "16048   NaN\n",
       "16049   NaN\n",
       "16050   NaN\n",
       "16051   NaN\n",
       "16052   NaN\n",
       "16053   NaN\n",
       "16054   NaN\n",
       "16055   NaN\n",
       "16056   NaN\n",
       "16057   NaN\n",
       "16058   NaN\n",
       "16059   NaN\n",
       "16060   NaN\n",
       "16061   NaN\n",
       "16062   NaN\n",
       "16063   NaN\n",
       "16064   NaN\n",
       "Name: is_dropoff_JFK, Length: 16065, dtype: float64"
      ]
     },
     "execution_count": 32,
     "metadata": {},
     "output_type": "execute_result"
    }
   ],
   "source": [
    "(df['is_dropoff_JFK'].where(df['is_dropoff_JFK']==1))"
   ]
  },
  {
   "cell_type": "code",
   "execution_count": 33,
   "metadata": {},
   "outputs": [
    {
     "data": {
      "text/plain": [
       "16065"
      ]
     },
     "execution_count": 33,
     "metadata": {},
     "output_type": "execute_result"
    }
   ],
   "source": [
    "len(df['is_pickup_JFK'])"
   ]
  },
  {
   "cell_type": "code",
   "execution_count": 34,
   "metadata": {},
   "outputs": [],
   "source": [
    "df['is_pickup_EWR']=df.apply(lambda row:isAirport(row['pickup_latitude'],row['pickup_longitude'],'EWR'),axis=1)\n",
    "df['is_dropoff_EWR']=df.apply(lambda row:isAirport(row['dropoff_latitude'],row['dropoff_longitude'],'EWR'),axis=1)"
   ]
  },
  {
   "cell_type": "code",
   "execution_count": 35,
   "metadata": {},
   "outputs": [
    {
     "data": {
      "text/plain": [
       "0     0\n",
       "1     0\n",
       "2     0\n",
       "3     0\n",
       "4     0\n",
       "5     0\n",
       "6     0\n",
       "7     0\n",
       "8     0\n",
       "9     0\n",
       "10    0\n",
       "11    0\n",
       "12    0\n",
       "13    0\n",
       "14    0\n",
       "15    0\n",
       "16    0\n",
       "17    0\n",
       "18    0\n",
       "19    0\n",
       "20    0\n",
       "21    0\n",
       "22    0\n",
       "23    0\n",
       "24    0\n",
       "25    0\n",
       "26    0\n",
       "27    0\n",
       "28    0\n",
       "29    0\n",
       "     ..\n",
       "70    0\n",
       "71    0\n",
       "72    0\n",
       "73    0\n",
       "74    0\n",
       "75    0\n",
       "76    0\n",
       "77    0\n",
       "78    0\n",
       "79    0\n",
       "80    0\n",
       "81    0\n",
       "82    0\n",
       "83    0\n",
       "84    0\n",
       "85    0\n",
       "86    0\n",
       "87    0\n",
       "88    0\n",
       "89    0\n",
       "90    0\n",
       "91    0\n",
       "92    0\n",
       "93    0\n",
       "94    0\n",
       "95    0\n",
       "96    0\n",
       "97    0\n",
       "98    0\n",
       "99    0\n",
       "Name: is_dropoff_EWR, Length: 100, dtype: int64"
      ]
     },
     "execution_count": 35,
     "metadata": {},
     "output_type": "execute_result"
    }
   ],
   "source": [
    "df['is_dropoff_EWR'].head(100)"
   ]
  },
  {
   "cell_type": "code",
   "execution_count": 36,
   "metadata": {},
   "outputs": [],
   "source": [
    "df['is_pickup_la_guardia']=df.apply(lambda row:isAirport(row['pickup_latitude'],row['pickup_longitude'],'LaGuardia'),axis=1)\n",
    "df['is_dropoff_la_guardia']=df.apply(lambda row:isAirport(row['dropoff_latitude'],row['dropoff_longitude'],'LaGuardia'),axis=1)"
   ]
  },
  {
   "cell_type": "code",
   "execution_count": 37,
   "metadata": {},
   "outputs": [],
   "source": [
    "# Trip Distance\n",
    "\n",
    "#calculate trip distance in miles\n",
    "def distance(lat1, lat2, lon1,lon2):\n",
    "    p = 0.017453292519943295 # Pi/180\n",
    "    a = 0.5 - np.cos((lat2 - lat1) * p)/2 + np.cos(lat1 * p) * np.cos(lat2 * p) * (1 - np.cos((lon2 - lon1) * p)) / 2\n",
    "    return 0.6213712 * 12742 * np.arcsin(np.sqrt(a))"
   ]
  },
  {
   "cell_type": "code",
   "execution_count": 86,
   "metadata": {},
   "outputs": [],
   "source": [
    "df['trip_distance']=df.apply(lambda row:distance(row['pickup_latitude'],row['dropoff_latitude'],row['pickup_longitude'],row['dropoff_longitude']),axis=1)\n",
    "test['trip_distance']=test.apply(lambda row:distance(row['pickup_latitude'],row['dropoff_latitude'],row['pickup_longitude'],row['dropoff_longitude']),axis=1)\n"
   ]
  },
  {
   "cell_type": "code",
   "execution_count": 39,
   "metadata": {},
   "outputs": [
    {
     "data": {
      "text/plain": [
       "Text(0.5, 1.0, 'Distribution of Trip Distance (log scale)')"
      ]
     },
     "execution_count": 39,
     "metadata": {},
     "output_type": "execute_result"
    },
    {
     "data": {
      "image/png": "[encoded data removed]",
      "text/plain": [
       "<Figure size 432x288 with 1 Axes>"
      ]
     },
     "metadata": {
      "needs_background": "light"
     },
     "output_type": "display_data"
    }
   ],
   "source": [
    "# We are plotting the distribution for Trip Distance\n",
    "sns.kdeplot(np.log(df['trip_distance'].values)).set_title(\"Distribution of Trip Distance (log scale)\")\n"
   ]
  },
  {
   "cell_type": "code",
   "execution_count": 40,
   "metadata": {},
   "outputs": [
    {
     "data": {
      "text/plain": [
       "Text(0.5, 1.0, 'Trip Distance vs Fare Amount')"
      ]
     },
     "execution_count": 40,
     "metadata": {},
     "output_type": "execute_result"
    },
    {
     "data": {
      "image/png": "[encoded data removed]",
      "text/plain": [
       "<Figure size 432x288 with 1 Axes>"
      ]
     },
     "metadata": {
      "needs_background": "light"
     },
     "output_type": "display_data"
    }
   ],
   "source": [
    "plt.scatter(x=df['trip_distance'],y=df['fare_amount'])\n",
    "plt.xlabel(\"Trip Distance\")\n",
    "plt.ylabel(\"Fare Amount\")\n",
    "plt.title(\"Trip Distance vs Fare Amount\")"
   ]
  },
  {
   "cell_type": "code",
   "execution_count": 41,
   "metadata": {},
   "outputs": [
    {
     "data": {
      "text/plain": [
       "83"
      ]
     },
     "execution_count": 41,
     "metadata": {},
     "output_type": "execute_result"
    }
   ],
   "source": [
    "# Here we can see that even for distances are zero let's check for NA's \n",
    "df.isnull().values.sum()"
   ]
  },
  {
   "cell_type": "code",
   "execution_count": 42,
   "metadata": {
    "scrolled": true
   },
   "outputs": [
    {
     "data": {
      "text/plain": [
       "fare_amount                 True \n",
       "pickup_datetime             False\n",
       "pickup_longitude            False\n",
       "pickup_latitude             False\n",
       "dropoff_longitude           False\n",
       "dropoff_latitude            False\n",
       "passenger_count             True \n",
       "pickup_date                 False\n",
       "pickup_day                  False\n",
       "pickup_hour                 False\n",
       "Datetime                    False\n",
       "pickup_latitude_round3      False\n",
       "pickup_longitude_round3     False\n",
       "dropoff_latitude_round3     False\n",
       "dropoff_longitude_round3    False\n",
       "is_pickup_JFK               False\n",
       "is_dropoff_JFK              False\n",
       "is_pickup_EWR               False\n",
       "is_dropoff_EWR              False\n",
       "is_pickup_la_guardia        False\n",
       "is_dropoff_la_guardia       False\n",
       "trip_distance               False\n",
       "dtype: bool"
      ]
     },
     "execution_count": 42,
     "metadata": {},
     "output_type": "execute_result"
    }
   ],
   "source": [
    "df.isnull().any()"
   ]
  },
  {
   "cell_type": "code",
   "execution_count": 43,
   "metadata": {},
   "outputs": [
    {
     "name": "stdout",
     "output_type": "stream",
     "text": [
      "fare_amount                 28\n",
      "pickup_datetime             0 \n",
      "pickup_longitude            0 \n",
      "pickup_latitude             0 \n",
      "dropoff_longitude           0 \n",
      "dropoff_latitude            0 \n",
      "passenger_count             55\n",
      "pickup_date                 0 \n",
      "pickup_day                  0 \n",
      "pickup_hour                 0 \n",
      "Datetime                    0 \n",
      "pickup_latitude_round3      0 \n",
      "pickup_longitude_round3     0 \n",
      "dropoff_latitude_round3     0 \n",
      "dropoff_longitude_round3    0 \n",
      "is_pickup_JFK               0 \n",
      "is_dropoff_JFK              0 \n",
      "is_pickup_EWR               0 \n",
      "is_dropoff_EWR              0 \n",
      "is_pickup_la_guardia        0 \n",
      "is_dropoff_la_guardia       0 \n",
      "trip_distance               0 \n",
      "dtype: int64\n"
     ]
    }
   ],
   "source": [
    "print(df.isnull().sum())"
   ]
  },
  {
   "cell_type": "code",
   "execution_count": 76,
   "metadata": {},
   "outputs": [
    {
     "data": {
      "text/html": [
       "<div>\n",
       "<style scoped>\n",
       "    .dataframe tbody tr th:only-of-type {\n",
       "        vertical-align: middle;\n",
       "    }\n",
       "\n",
       "    .dataframe tbody tr th {\n",
       "        vertical-align: top;\n",
       "    }\n",
       "\n",
       "    .dataframe thead th {\n",
       "        text-align: right;\n",
       "    }\n",
       "</style>\n",
       "<table border=\"1\" class=\"dataframe\">\n",
       "  <thead>\n",
       "    <tr style=\"text-align: right;\">\n",
       "      <th></th>\n",
       "      <th>pickup_datetime</th>\n",
       "      <th>pickup_longitude</th>\n",
       "      <th>pickup_latitude</th>\n",
       "      <th>dropoff_longitude</th>\n",
       "      <th>dropoff_latitude</th>\n",
       "      <th>passenger_count</th>\n",
       "      <th>trip_distance</th>\n",
       "    </tr>\n",
       "  </thead>\n",
       "  <tbody>\n",
       "    <tr>\n",
       "      <th>0</th>\n",
       "      <td>2015-01-27 13:08:24 UTC</td>\n",
       "      <td>-73.973320</td>\n",
       "      <td>40.763805</td>\n",
       "      <td>-73.981430</td>\n",
       "      <td>40.743835</td>\n",
       "      <td>1</td>\n",
       "      <td>1.443607</td>\n",
       "    </tr>\n",
       "    <tr>\n",
       "      <th>1</th>\n",
       "      <td>2015-01-27 13:08:24 UTC</td>\n",
       "      <td>-73.986862</td>\n",
       "      <td>40.719383</td>\n",
       "      <td>-73.998886</td>\n",
       "      <td>40.739201</td>\n",
       "      <td>1</td>\n",
       "      <td>1.507044</td>\n",
       "    </tr>\n",
       "    <tr>\n",
       "      <th>2</th>\n",
       "      <td>2011-10-08 11:53:44 UTC</td>\n",
       "      <td>-73.982524</td>\n",
       "      <td>40.751260</td>\n",
       "      <td>-73.979654</td>\n",
       "      <td>40.746139</td>\n",
       "      <td>1</td>\n",
       "      <td>0.384398</td>\n",
       "    </tr>\n",
       "    <tr>\n",
       "      <th>3</th>\n",
       "      <td>2012-12-01 21:12:12 UTC</td>\n",
       "      <td>-73.981160</td>\n",
       "      <td>40.767807</td>\n",
       "      <td>-73.990448</td>\n",
       "      <td>40.751635</td>\n",
       "      <td>1</td>\n",
       "      <td>1.218529</td>\n",
       "    </tr>\n",
       "    <tr>\n",
       "      <th>4</th>\n",
       "      <td>2012-12-01 21:12:12 UTC</td>\n",
       "      <td>-73.966046</td>\n",
       "      <td>40.789775</td>\n",
       "      <td>-73.988565</td>\n",
       "      <td>40.744427</td>\n",
       "      <td>1</td>\n",
       "      <td>3.347514</td>\n",
       "    </tr>\n",
       "  </tbody>\n",
       "</table>\n",
       "</div>"
      ],
      "text/plain": [
       "           pickup_datetime  pickup_longitude  pickup_latitude  \\\n",
       "0  2015-01-27 13:08:24 UTC -73.973320         40.763805         \n",
       "1  2015-01-27 13:08:24 UTC -73.986862         40.719383         \n",
       "2  2011-10-08 11:53:44 UTC -73.982524         40.751260         \n",
       "3  2012-12-01 21:12:12 UTC -73.981160         40.767807         \n",
       "4  2012-12-01 21:12:12 UTC -73.966046         40.789775         \n",
       "\n",
       "   dropoff_longitude  dropoff_latitude  passenger_count  trip_distance  \n",
       "0 -73.981430          40.743835         1                1.443607       \n",
       "1 -73.998886          40.739201         1                1.507044       \n",
       "2 -73.979654          40.746139         1                0.384398       \n",
       "3 -73.990448          40.751635         1                1.218529       \n",
       "4 -73.988565          40.744427         1                3.347514       "
      ]
     },
     "execution_count": 76,
     "metadata": {},
     "output_type": "execute_result"
    }
   ],
   "source": [
    "# Missing value Analysis\n",
    "missing_val = pd.DataFrame(df.isnull().sum())\n",
    "# Reset Index\n",
    "missing_val = missing_val.reset_index()\n",
    "# Rename variable\n",
    "missing_val = missing_val.rename(columns = {'index': 'Variables', 0: 'Missing_Percentage'})\n",
    "# Calculate Percentage\n",
    "missing_val['Missing_Percentage'] = (missing_val['Missing_Percentage']/len(df))*100\n",
    "missing_val\n",
    "# test.head()"
   ]
  },
  {
   "cell_type": "code",
   "execution_count": 45,
   "metadata": {},
   "outputs": [],
   "source": [
    "# Sort in Descending Order\n",
    "missing_val = missing_val.sort_values('Missing_Percentage', ascending = False).reset_index(drop = True)"
   ]
  },
  {
   "cell_type": "code",
   "execution_count": null,
   "metadata": {},
   "outputs": [],
   "source": []
  },
  {
   "cell_type": "code",
   "execution_count": 46,
   "metadata": {},
   "outputs": [],
   "source": [
    "# Imputation with median \n",
    "df['passenger_count'] = df['passenger_count'].fillna(df['passenger_count'].median())\n"
   ]
  },
  {
   "cell_type": "code",
   "execution_count": 47,
   "metadata": {},
   "outputs": [
    {
     "name": "stdout",
     "output_type": "stream",
     "text": [
      "Fare Amount mean and median (15.018862630167577, 8.5)\n",
      "fare_amount                 0\n",
      "pickup_datetime             0\n",
      "pickup_longitude            0\n",
      "pickup_latitude             0\n",
      "dropoff_longitude           0\n",
      "dropoff_latitude            0\n",
      "passenger_count             0\n",
      "pickup_date                 0\n",
      "pickup_day                  0\n",
      "pickup_hour                 0\n",
      "Datetime                    0\n",
      "pickup_latitude_round3      0\n",
      "pickup_longitude_round3     0\n",
      "dropoff_latitude_round3     0\n",
      "dropoff_longitude_round3    0\n",
      "is_pickup_JFK               0\n",
      "is_dropoff_JFK              0\n",
      "is_pickup_EWR               0\n",
      "is_dropoff_EWR              0\n",
      "is_pickup_la_guardia        0\n",
      "is_dropoff_la_guardia       0\n",
      "trip_distance               0\n",
      "dtype: int64\n"
     ]
    }
   ],
   "source": [
    "# For Imputing the Fare amount Let's us check the values for both mean and the median\n",
    "print('Fare Amount mean and median',(df['fare_amount'].mean(),df['fare_amount'].median()))\n",
    "# As the Median is low and we also observed in our histogram that most of the values lies under 10.00$. \n",
    "# Let's Impute, The Fare Amount with the mean\n",
    "# Now we are left with just the date column, we know imputation won't be good idea for the date. So, we can remove that.\n",
    "df = df.dropna(how='any',axis=0)\n",
    "print(df.isnull().sum())"
   ]
  },
  {
   "cell_type": "code",
   "execution_count": 48,
   "metadata": {},
   "outputs": [],
   "source": [
    "def add_travel_vector_features(df):\n",
    "    df['abs_diff_longitude'] = (df.dropoff_longitude - df.pickup_longitude).abs()\n",
    "    df['abs_diff_latitude'] = (df.dropoff_latitude - df.pickup_latitude).abs()\n",
    "\n",
    "add_travel_vector_features(df)"
   ]
  },
  {
   "cell_type": "code",
   "execution_count": 49,
   "metadata": {},
   "outputs": [
    {
     "name": "stdout",
     "output_type": "stream",
     "text": [
      "(16037, 3)\n",
      "(16037,)\n"
     ]
    }
   ],
   "source": [
    "# Construct and return an Nx3 input matrix for our linear model\n",
    "# using the travel vector, plus a 1.0 for a constant bias term.\n",
    "def get_input_matrix(df):\n",
    "    return np.column_stack((df.abs_diff_longitude, df.abs_diff_latitude, np.ones(len(df))))\n",
    "\n",
    "train_X = get_input_matrix(df)\n",
    "train_y = np.array(df['fare_amount'])\n",
    "\n",
    "print(train_X.shape)\n",
    "print(train_y.shape)"
   ]
  },
  {
   "cell_type": "markdown",
   "metadata": {},
   "source": [
    "# Now let's use numpy's lstsq library function to find the optimal weight column  "
   ]
  },
  {
   "cell_type": "code",
   "execution_count": 50,
   "metadata": {},
   "outputs": [
    {
     "name": "stdout",
     "output_type": "stream",
     "text": [
      "[ 0.06725671 -0.02255163 15.01216475]\n"
     ]
    }
   ],
   "source": [
    "# The lstsq function returns several things, and we only care about the actual weight vector w.\n",
    "\n",
    "(w, _, _, _) = np.linalg.lstsq(train_X, train_y, rcond = None)\n",
    "print(w)"
   ]
  },
  {
   "cell_type": "code",
   "execution_count": 51,
   "metadata": {},
   "outputs": [],
   "source": [
    "# These points pass a quick reality check, since we'd expect two values. The weights for the absolute longitude and latitude differences- to be positive, as more ditances should imply higher fare and we'd expect the bias term to loosly represent the costof a very short ride"
   ]
  },
  {
   "cell_type": "code",
   "execution_count": 52,
   "metadata": {},
   "outputs": [],
   "source": [
    "# We would be able to Calculate OLS and also check for the seberity of multicollinearity."
   ]
  },
  {
   "cell_type": "code",
   "execution_count": 60,
   "metadata": {},
   "outputs": [
    {
     "name": "stdout",
     "output_type": "stream",
     "text": [
      "[ 0.06725671 -0.02255163 15.01216475]\n"
     ]
    },
    {
     "data": {
      "text/html": [
       "<div>\n",
       "<style scoped>\n",
       "    .dataframe tbody tr th:only-of-type {\n",
       "        vertical-align: middle;\n",
       "    }\n",
       "\n",
       "    .dataframe tbody tr th {\n",
       "        vertical-align: top;\n",
       "    }\n",
       "\n",
       "    .dataframe thead th {\n",
       "        text-align: right;\n",
       "    }\n",
       "</style>\n",
       "<table border=\"1\" class=\"dataframe\">\n",
       "  <thead>\n",
       "    <tr style=\"text-align: right;\">\n",
       "      <th></th>\n",
       "      <th>fare_amount</th>\n",
       "      <th>pickup_datetime</th>\n",
       "      <th>pickup_longitude</th>\n",
       "      <th>pickup_latitude</th>\n",
       "      <th>dropoff_longitude</th>\n",
       "      <th>dropoff_latitude</th>\n",
       "      <th>passenger_count</th>\n",
       "      <th>pickup_date</th>\n",
       "      <th>pickup_day</th>\n",
       "      <th>pickup_hour</th>\n",
       "      <th>...</th>\n",
       "      <th>dropoff_longitude_round3</th>\n",
       "      <th>is_pickup_JFK</th>\n",
       "      <th>is_dropoff_JFK</th>\n",
       "      <th>is_pickup_EWR</th>\n",
       "      <th>is_dropoff_EWR</th>\n",
       "      <th>is_pickup_la_guardia</th>\n",
       "      <th>is_dropoff_la_guardia</th>\n",
       "      <th>trip_distance</th>\n",
       "      <th>abs_diff_longitude</th>\n",
       "      <th>abs_diff_latitude</th>\n",
       "    </tr>\n",
       "  </thead>\n",
       "  <tbody>\n",
       "    <tr>\n",
       "      <th>0</th>\n",
       "      <td>4.5</td>\n",
       "      <td>2009-06-15 17:26:21</td>\n",
       "      <td>-73.844311</td>\n",
       "      <td>40.721319</td>\n",
       "      <td>-73.841610</td>\n",
       "      <td>40.712278</td>\n",
       "      <td>1.0</td>\n",
       "      <td>2009-06-15</td>\n",
       "      <td>15</td>\n",
       "      <td>17</td>\n",
       "      <td>...</td>\n",
       "      <td>-73.842</td>\n",
       "      <td>0</td>\n",
       "      <td>0</td>\n",
       "      <td>0</td>\n",
       "      <td>0</td>\n",
       "      <td>0</td>\n",
       "      <td>0</td>\n",
       "      <td>0.640487</td>\n",
       "      <td>0.002701</td>\n",
       "      <td>0.009041</td>\n",
       "    </tr>\n",
       "    <tr>\n",
       "      <th>1</th>\n",
       "      <td>16.9</td>\n",
       "      <td>2010-01-05 16:52:16</td>\n",
       "      <td>-74.016048</td>\n",
       "      <td>40.711303</td>\n",
       "      <td>-73.979268</td>\n",
       "      <td>40.782004</td>\n",
       "      <td>1.0</td>\n",
       "      <td>2010-01-05</td>\n",
       "      <td>5</td>\n",
       "      <td>16</td>\n",
       "      <td>...</td>\n",
       "      <td>-73.979</td>\n",
       "      <td>0</td>\n",
       "      <td>0</td>\n",
       "      <td>0</td>\n",
       "      <td>0</td>\n",
       "      <td>0</td>\n",
       "      <td>0</td>\n",
       "      <td>5.250670</td>\n",
       "      <td>0.036780</td>\n",
       "      <td>0.070701</td>\n",
       "    </tr>\n",
       "    <tr>\n",
       "      <th>2</th>\n",
       "      <td>5.7</td>\n",
       "      <td>2011-08-18 00:35:00</td>\n",
       "      <td>-73.982738</td>\n",
       "      <td>40.761270</td>\n",
       "      <td>-73.991242</td>\n",
       "      <td>40.750562</td>\n",
       "      <td>2.0</td>\n",
       "      <td>2011-08-18</td>\n",
       "      <td>18</td>\n",
       "      <td>0</td>\n",
       "      <td>...</td>\n",
       "      <td>-73.991</td>\n",
       "      <td>0</td>\n",
       "      <td>0</td>\n",
       "      <td>0</td>\n",
       "      <td>0</td>\n",
       "      <td>0</td>\n",
       "      <td>0</td>\n",
       "      <td>0.863411</td>\n",
       "      <td>0.008504</td>\n",
       "      <td>0.010708</td>\n",
       "    </tr>\n",
       "    <tr>\n",
       "      <th>3</th>\n",
       "      <td>7.7</td>\n",
       "      <td>2012-04-21 04:30:42</td>\n",
       "      <td>-73.987130</td>\n",
       "      <td>40.733143</td>\n",
       "      <td>-73.991567</td>\n",
       "      <td>40.758092</td>\n",
       "      <td>1.0</td>\n",
       "      <td>2012-04-21</td>\n",
       "      <td>21</td>\n",
       "      <td>4</td>\n",
       "      <td>...</td>\n",
       "      <td>-73.992</td>\n",
       "      <td>0</td>\n",
       "      <td>0</td>\n",
       "      <td>0</td>\n",
       "      <td>0</td>\n",
       "      <td>0</td>\n",
       "      <td>0</td>\n",
       "      <td>1.739386</td>\n",
       "      <td>0.004437</td>\n",
       "      <td>0.024949</td>\n",
       "    </tr>\n",
       "    <tr>\n",
       "      <th>4</th>\n",
       "      <td>5.3</td>\n",
       "      <td>2010-03-09 07:51:00</td>\n",
       "      <td>-73.968095</td>\n",
       "      <td>40.768008</td>\n",
       "      <td>-73.956655</td>\n",
       "      <td>40.783762</td>\n",
       "      <td>1.0</td>\n",
       "      <td>2010-03-09</td>\n",
       "      <td>9</td>\n",
       "      <td>7</td>\n",
       "      <td>...</td>\n",
       "      <td>-73.957</td>\n",
       "      <td>0</td>\n",
       "      <td>0</td>\n",
       "      <td>0</td>\n",
       "      <td>0</td>\n",
       "      <td>0</td>\n",
       "      <td>0</td>\n",
       "      <td>1.242218</td>\n",
       "      <td>0.011440</td>\n",
       "      <td>0.015754</td>\n",
       "    </tr>\n",
       "  </tbody>\n",
       "</table>\n",
       "<p>5 rows × 24 columns</p>\n",
       "</div>"
      ],
      "text/plain": [
       "   fare_amount     pickup_datetime  pickup_longitude  pickup_latitude  \\\n",
       "0  4.5         2009-06-15 17:26:21 -73.844311         40.721319         \n",
       "1  16.9        2010-01-05 16:52:16 -74.016048         40.711303         \n",
       "2  5.7         2011-08-18 00:35:00 -73.982738         40.761270         \n",
       "3  7.7         2012-04-21 04:30:42 -73.987130         40.733143         \n",
       "4  5.3         2010-03-09 07:51:00 -73.968095         40.768008         \n",
       "\n",
       "   dropoff_longitude  dropoff_latitude  passenger_count pickup_date  \\\n",
       "0 -73.841610          40.712278         1.0              2009-06-15   \n",
       "1 -73.979268          40.782004         1.0              2010-01-05   \n",
       "2 -73.991242          40.750562         2.0              2011-08-18   \n",
       "3 -73.991567          40.758092         1.0              2012-04-21   \n",
       "4 -73.956655          40.783762         1.0              2010-03-09   \n",
       "\n",
       "   pickup_day  pickup_hour        ...         dropoff_longitude_round3  \\\n",
       "0  15          17                 ...         -73.842                    \n",
       "1  5           16                 ...         -73.979                    \n",
       "2  18          0                  ...         -73.991                    \n",
       "3  21          4                  ...         -73.992                    \n",
       "4  9           7                  ...         -73.957                    \n",
       "\n",
       "   is_pickup_JFK  is_dropoff_JFK  is_pickup_EWR  is_dropoff_EWR  \\\n",
       "0  0              0               0              0                \n",
       "1  0              0               0              0                \n",
       "2  0              0               0              0                \n",
       "3  0              0               0              0                \n",
       "4  0              0               0              0                \n",
       "\n",
       "   is_pickup_la_guardia  is_dropoff_la_guardia  trip_distance  \\\n",
       "0  0                     0                      0.640487        \n",
       "1  0                     0                      5.250670        \n",
       "2  0                     0                      0.863411        \n",
       "3  0                     0                      1.739386        \n",
       "4  0                     0                      1.242218        \n",
       "\n",
       "   abs_diff_longitude  abs_diff_latitude  \n",
       "0  0.002701            0.009041           \n",
       "1  0.036780            0.070701           \n",
       "2  0.008504            0.010708           \n",
       "3  0.004437            0.024949           \n",
       "4  0.011440            0.015754           \n",
       "\n",
       "[5 rows x 24 columns]"
      ]
     },
     "execution_count": 60,
     "metadata": {},
     "output_type": "execute_result"
    }
   ],
   "source": [
    "w_OLS = np.matmul(np.matmul(np.linalg.inv(np.matmul(train_X.T, train_X)), train_X.T), train_y)\n",
    "print(w_OLS)\n",
    "df['pick`']"
   ]
  },
  {
   "cell_type": "markdown",
   "metadata": {},
   "source": [
    "# Linear Regression"
   ]
  },
  {
   "cell_type": "code",
   "execution_count": 62,
   "metadata": {},
   "outputs": [
    {
     "data": {
      "text/plain": [
       "((15525, 3), (15525,))"
      ]
     },
     "execution_count": 62,
     "metadata": {},
     "output_type": "execute_result"
    }
   ],
   "source": [
    "# define dataset\n",
    "# select points 15 miles near NYC center and remove zero passenger datapoints\n",
    "idx = (df.trip_distance!=0) & (df.passenger_count!=0)\n",
    "features = [ 'pickup_hour', 'trip_distance', 'passenger_count']\n",
    "X = df[idx][features].values\n",
    "y = df[idx]['fare_amount'].values\n",
    "X.shape, y.shape\n"
   ]
  },
  {
   "cell_type": "code",
   "execution_count": 63,
   "metadata": {},
   "outputs": [],
   "source": [
    "from sklearn.metrics import mean_squared_error, explained_variance_score\n",
    "\n",
    "def plot_prediction_analysis(y, y_pred, figsize=(10,4), title=''):\n",
    "    fig, axs = plt.subplots(1, 2, figsize=figsize)\n",
    "    axs[0].scatter(y, y_pred)\n",
    "    mn = min(np.min(y), np.min(y_pred))\n",
    "    mx = max(np.max(y), np.max(y_pred))\n",
    "    axs[0].plot([mn, mx], [mn, mx], c='red')\n",
    "    axs[0].set_xlabel('$y$')\n",
    "    axs[0].set_ylabel('$\\hat{y}$')\n",
    "    rmse = np.sqrt(mean_squared_error(y, y_pred))\n",
    "    evs = explained_variance_score(y, y_pred)\n",
    "    axs[0].set_title('rmse = {:.2f}, evs = {:.2f}'.format(rmse, evs))\n",
    "    \n",
    "    axs[1].hist(y-y_pred, bins=50)\n",
    "    avg = np.mean(y-y_pred)\n",
    "    std = np.std(y-y_pred)\n",
    "    axs[1].set_xlabel('$y - \\hat{y}$')\n",
    "    axs[1].set_title('Histrogram prediction error, $\\mu$ = {:.2f}, $\\sigma$ = {:.2f}'.format(avg, std))\n",
    "    \n",
    "    if title!='':\n",
    "        fig.suptitle(title)\n"
   ]
  },
  {
   "cell_type": "code",
   "execution_count": 64,
   "metadata": {},
   "outputs": [],
   "source": [
    "# create training and test sets\n",
    "from sklearn.model_selection import train_test_split\n",
    "\n",
    "X_train, X_test, y_train, y_test = train_test_split(X, y, test_size=0.25)\n"
   ]
  },
  {
   "cell_type": "code",
   "execution_count": 65,
   "metadata": {},
   "outputs": [
    {
     "data": {
      "image/png": "[encoded data removed]",
      "text/plain": [
       "<Figure size 720x288 with 2 Axes>"
      ]
     },
     "metadata": {
      "needs_background": "light"
     },
     "output_type": "display_data"
    },
    {
     "data": {
      "image/png": "[encoded data removed]",
      "text/plain": [
       "<Figure size 720x288 with 2 Axes>"
      ]
     },
     "metadata": {
      "needs_background": "light"
     },
     "output_type": "display_data"
    }
   ],
   "source": [
    "from sklearn.pipeline import Pipeline\n",
    "from sklearn.linear_model import LinearRegression\n",
    "from sklearn.preprocessing import StandardScaler\n",
    "\n",
    "model_lin = Pipeline((\n",
    "        (\"standard_scaler\", StandardScaler()),\n",
    "        (\"lin_reg\", LinearRegression()),\n",
    "    ))\n",
    "model_lin.fit(X_train, y_train)\n",
    "\n",
    "y_train_pred = model_lin.predict(X_train)\n",
    "plot_prediction_analysis(y_train, y_train_pred, title='Linear Model - Trainingset')\n",
    "\n",
    "y_test_pred = model_lin.predict(X_test)\n",
    "plot_prediction_analysis(y_test, y_test_pred, title='Linear Model - Testset')\n"
   ]
  },
  {
   "cell_type": "code",
   "execution_count": 66,
   "metadata": {},
   "outputs": [],
   "source": [
    "# some handy function to see how sensitive the model is to the selection\n",
    "# of the training and test set\n",
    "def plot_rmse_analysis(model, X, y, N=400, test_size=0.25, figsize=(10,4), title=''):\n",
    "    rmse_train, rmse_test = [], []\n",
    "    for i in range(N):\n",
    "        X_train, X_test, y_train, y_test = train_test_split(X, y, test_size=test_size)\n",
    "\n",
    "        model.fit(X_train, y_train)\n",
    "        y_train_pred = model.predict(X_train)\n",
    "        y_test_pred = model.predict(X_test)\n",
    "\n",
    "        rmse_train.append(np.sqrt(mean_squared_error(y_train, y_train_pred)))\n",
    "        rmse_test.append(np.sqrt(mean_squared_error(y_test, y_test_pred)))\n",
    "\n",
    "    g = sns.jointplot(np.array(rmse_train), np.array(rmse_test), kind='scatter', stat_func=None, size=5)\n",
    "    g.set_axis_labels(\"RMSE training ($\\mu$={:.2f})\".format(np.mean(rmse_train)), \n",
    "                      \"RMSE test ($\\mu$={:.2f})\".format(np.mean(rmse_test)))\n",
    "    plt.subplots_adjust(top=0.9)\n",
    "    g.fig.suptitle('{} (N={}, test_size={:0.2f})'.format(title, N, test_size))\n"
   ]
  },
  {
   "cell_type": "code",
   "execution_count": 89,
   "metadata": {},
   "outputs": [
    {
     "data": {
      "image/png": "[encoded data removed]",
      "text/plain": [
       "<Figure size 360x360 with 3 Axes>"
      ]
     },
     "metadata": {
      "needs_background": "light"
     },
     "output_type": "display_data"
    }
   ],
   "source": [
    "plot_rmse_analysis(model_lin, X[:100_000,:], y[:100_000], title='Linear model')\n"
   ]
  },
  {
   "cell_type": "code",
   "execution_count": 87,
   "metadata": {},
   "outputs": [],
   "source": [
    "test.dtypes\n",
    "XTEST = test[features].values\n"
   ]
  },
  {
   "cell_type": "code",
   "execution_count": 88,
   "metadata": {},
   "outputs": [],
   "source": [
    "filename = './Edwisor Cab Fare//baseline_linear'\n",
    "\n",
    "y_pred_final = model_lin.predict(XTEST)\n",
    "\n",
    "submission = pd.DataFrame(\n",
    "    {'pickup_datetime': test.pickup_datetime, 'fare_amount': y_pred_final},\n",
    "    columns = ['pickup_datetime', 'fare_amount'])\n",
    "submission.to_csv('submission.csv', index = False)\n"
   ]
  },
  {
   "cell_type": "code",
   "execution_count": 91,
   "metadata": {},
   "outputs": [],
   "source": [
    "# Predicting the Test Set results\n",
    "y_pred = model_lin.predict(X_test)\n",
    "\n",
    "from sklearn.metrics import r2_score\n",
    "score = r2_score(y_test, y_pred)\n"
   ]
  },
  {
   "cell_type": "code",
   "execution_count": 93,
   "metadata": {},
   "outputs": [
    {
     "data": {
      "text/plain": [
       "-0.3577089772678457"
      ]
     },
     "execution_count": 93,
     "metadata": {},
     "output_type": "execute_result"
    }
   ],
   "source": [
    "score"
   ]
  },
  {
   "cell_type": "markdown",
   "metadata": {},
   "source": [
    "# Random Forest Regression¶\n"
   ]
  },
  {
   "cell_type": "code",
   "execution_count": 94,
   "metadata": {},
   "outputs": [],
   "source": [
    "from sklearn.ensemble import RandomForestRegressor\n",
    "# from sklearn.datasets import make_regression\n",
    "regr = RandomForestRegressor(max_depth=2, random_state=0,\n",
    "                     n_estimators=100)\n"
   ]
  },
  {
   "cell_type": "code",
   "execution_count": 95,
   "metadata": {},
   "outputs": [
    {
     "data": {
      "text/plain": [
       "RandomForestRegressor(bootstrap=True, criterion='mse', max_depth=2,\n",
       "           max_features='auto', max_leaf_nodes=None,\n",
       "           min_impurity_decrease=0.0, min_impurity_split=None,\n",
       "           min_samples_leaf=1, min_samples_split=2,\n",
       "           min_weight_fraction_leaf=0.0, n_estimators=100, n_jobs=None,\n",
       "           oob_score=False, random_state=0, verbose=0, warm_start=False)"
      ]
     },
     "execution_count": 95,
     "metadata": {},
     "output_type": "execute_result"
    }
   ],
   "source": [
    "regr.fit(X_train, y_train)\n"
   ]
  },
  {
   "cell_type": "code",
   "execution_count": 96,
   "metadata": {},
   "outputs": [],
   "source": [
    "y_predict = regr.predict(X_test)\n",
    "score = r2_score(y_test, y_predict)\n"
   ]
  },
  {
   "cell_type": "code",
   "execution_count": 97,
   "metadata": {},
   "outputs": [
    {
     "data": {
      "text/plain": [
       "-6974.891187093389"
      ]
     },
     "execution_count": 97,
     "metadata": {},
     "output_type": "execute_result"
    }
   ],
   "source": [
    "score\n"
   ]
  },
  {
   "cell_type": "code",
   "execution_count": null,
   "metadata": {},
   "outputs": [],
   "source": []
  }
 ],
 "metadata": {
  "kernelspec": {
   "display_name": "Python 3",
   "language": "python",
   "name": "python3"
  },
  "language_info": {
   "codemirror_mode": {
    "name": "ipython",
    "version": 3
   },
   "file_extension": ".py",
   "mimetype": "text/x-python",
   "name": "python",
   "nbconvert_exporter": "python",
   "pygments_lexer": "ipython3",
   "version": "3.7.1"
  }
 },
 "nbformat": 4,
 "nbformat_minor": 2
}
