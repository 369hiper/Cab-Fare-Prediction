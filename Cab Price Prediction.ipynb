{
 "cells": [
  {
   "cell_type": "code",
   "execution_count": 1,
   "metadata": {},
   "outputs": [],
   "source": [
    "# !pip install geopy\n",
    "import numpy as np\n",
    "import pandas as pd\n",
    "import matplotlib.pyplot as plt\n",
    "import seaborn as sns\n",
    "import pandas as pd\n",
    "import matplotlib.pyplot as plt\n",
    "import seaborn as sns\n",
    "import numpy as np\n",
    "import warnings\n",
    "from datetime import datetime\n",
    "import calendar\n",
    "from math import sin, cos, sqrt, atan2, radians,asin\n",
    "import folium\n",
    "from folium import FeatureGroup, LayerControl, Map, Marker\n",
    "from folium.plugins import HeatMap\n",
    "from folium.plugins import TimestampedGeoJson\n",
    "from folium.plugins import MarkerCluster\n",
    "from geopy.distance import great_circle\n",
    "import matplotlib.dates as mdates\n",
    "from datetime import timedelta\n",
    "import datetime as dt\n",
    "warnings.filterwarnings('ignore')\n",
    "pd.set_option('display.max_colwidth', -1)\n",
    "plt.style.use('fivethirtyeight')\n",
    "import folium\n",
    "from sklearn.cluster import KMeans\n",
    "from sklearn import preprocessing\n",
    "from sklearn.model_selection import train_test_split\n",
    "from sklearn.preprocessing import Imputer\n",
    "from sklearn import linear_model\n",
    "from sklearn.metrics import mean_squared_error\n",
    "from sklearn.ensemble import RandomForestRegressor\n",
    "import pickle\n",
    "from geopy.distance import geodesic"
   ]
  },
  {
   "cell_type": "code",
   "execution_count": 59,
   "metadata": {
    "scrolled": true
   },
   "outputs": [
    {
     "data": {
      "text/plain": [
       "fare_amount          object        \n",
       "pickup_datetime      datetime64[ns]\n",
       "pickup_longitude     float64       \n",
       "pickup_latitude      float64       \n",
       "dropoff_longitude    float64       \n",
       "dropoff_latitude     float64       \n",
       "passenger_count      float64       \n",
       "dtype: object"
      ]
     },
     "execution_count": 59,
     "metadata": {},
     "output_type": "execute_result"
    }
   ],
   "source": [
    "# df = pd.read_csv('./Edwisor Cab Fare/train_cab.csv' ,nrows = 16067, parse_dates=['pickup_datetime'])\n",
    "\n",
    "df = pd.read_csv('C:/Users/nsida/Cab fare prediction//train_cab.csv', nrows= 16066, encoding = \"utf-8\")\n",
    "\n",
    "date1 = pd.to_datetime(df['pickup_datetime'],format='%Y-%m-%d %H:%M:%S UTC', errors='coerce')\n",
    "date2 = pd.to_datetime(df['pickup_datetime'],format='%Y-%m-%d UTC', errors='coerce')\n",
    "    \n",
    "df['pickup_datetime'] = date1.combine_first(date2)\n",
    "\n",
    "data = df.dropna()\n",
    "df.dtypes\n",
    "# de1.head(10)"
   ]
  },
  {
   "cell_type": "code",
   "execution_count": 60,
   "metadata": {},
   "outputs": [
    {
     "data": {
      "text/plain": [
       "fare_amount          float64       \n",
       "pickup_datetime      datetime64[ns]\n",
       "pickup_longitude     float64       \n",
       "pickup_latitude      float64       \n",
       "dropoff_longitude    float64       \n",
       "dropoff_latitude     float64       \n",
       "passenger_count      float64       \n",
       "dtype: object"
      ]
     },
     "execution_count": 60,
     "metadata": {},
     "output_type": "execute_result"
    }
   ],
   "source": [
    "# Covert the Data types\n",
    "del df['fare_amount'][1123]\n",
    "#Deleting the row with Special Charater\n",
    "\n",
    "# TO DO - Watch How to remove the Check if there is any special characters(Bone) inside the Fish(Column) to ensure no Frustration\n",
    "df['fare_amount'] = pd.to_numeric(df['fare_amount'])\n",
    "df.dtypes"
   ]
  },
  {
   "cell_type": "markdown",
   "metadata": {},
   "source": []
  },
  {
   "cell_type": "code",
   "execution_count": 61,
   "metadata": {},
   "outputs": [
    {
     "data": {
      "text/html": [
       "<div>\n",
       "<style scoped>\n",
       "    .dataframe tbody tr th:only-of-type {\n",
       "        vertical-align: middle;\n",
       "    }\n",
       "\n",
       "    .dataframe tbody tr th {\n",
       "        vertical-align: top;\n",
       "    }\n",
       "\n",
       "    .dataframe thead th {\n",
       "        text-align: right;\n",
       "    }\n",
       "</style>\n",
       "<table border=\"1\" class=\"dataframe\">\n",
       "  <thead>\n",
       "    <tr style=\"text-align: right;\">\n",
       "      <th></th>\n",
       "      <th>fare_amount</th>\n",
       "      <th>pickup_datetime</th>\n",
       "      <th>pickup_longitude</th>\n",
       "      <th>pickup_latitude</th>\n",
       "      <th>dropoff_longitude</th>\n",
       "      <th>dropoff_latitude</th>\n",
       "      <th>passenger_count</th>\n",
       "      <th>pickup_date</th>\n",
       "      <th>pickup_day</th>\n",
       "      <th>pickup_hour</th>\n",
       "    </tr>\n",
       "  </thead>\n",
       "  <tbody>\n",
       "    <tr>\n",
       "      <th>0</th>\n",
       "      <td>4.5</td>\n",
       "      <td>2009-06-15 17:26:21</td>\n",
       "      <td>-73.844311</td>\n",
       "      <td>40.721319</td>\n",
       "      <td>-73.841610</td>\n",
       "      <td>40.712278</td>\n",
       "      <td>1.0</td>\n",
       "      <td>2009-06-15</td>\n",
       "      <td>15.0</td>\n",
       "      <td>17.0</td>\n",
       "    </tr>\n",
       "    <tr>\n",
       "      <th>1</th>\n",
       "      <td>16.9</td>\n",
       "      <td>2010-01-05 16:52:16</td>\n",
       "      <td>-74.016048</td>\n",
       "      <td>40.711303</td>\n",
       "      <td>-73.979268</td>\n",
       "      <td>40.782004</td>\n",
       "      <td>1.0</td>\n",
       "      <td>2010-01-05</td>\n",
       "      <td>5.0</td>\n",
       "      <td>16.0</td>\n",
       "    </tr>\n",
       "    <tr>\n",
       "      <th>2</th>\n",
       "      <td>5.7</td>\n",
       "      <td>2011-08-18 00:35:00</td>\n",
       "      <td>-73.982738</td>\n",
       "      <td>40.761270</td>\n",
       "      <td>-73.991242</td>\n",
       "      <td>40.750562</td>\n",
       "      <td>2.0</td>\n",
       "      <td>2011-08-18</td>\n",
       "      <td>18.0</td>\n",
       "      <td>0.0</td>\n",
       "    </tr>\n",
       "    <tr>\n",
       "      <th>3</th>\n",
       "      <td>7.7</td>\n",
       "      <td>2012-04-21 04:30:42</td>\n",
       "      <td>-73.987130</td>\n",
       "      <td>40.733143</td>\n",
       "      <td>-73.991567</td>\n",
       "      <td>40.758092</td>\n",
       "      <td>1.0</td>\n",
       "      <td>2012-04-21</td>\n",
       "      <td>21.0</td>\n",
       "      <td>4.0</td>\n",
       "    </tr>\n",
       "    <tr>\n",
       "      <th>4</th>\n",
       "      <td>5.3</td>\n",
       "      <td>2010-03-09 07:51:00</td>\n",
       "      <td>-73.968095</td>\n",
       "      <td>40.768008</td>\n",
       "      <td>-73.956655</td>\n",
       "      <td>40.783762</td>\n",
       "      <td>1.0</td>\n",
       "      <td>2010-03-09</td>\n",
       "      <td>9.0</td>\n",
       "      <td>7.0</td>\n",
       "    </tr>\n",
       "  </tbody>\n",
       "</table>\n",
       "</div>"
      ],
      "text/plain": [
       "   fare_amount     pickup_datetime  pickup_longitude  pickup_latitude  \\\n",
       "0  4.5         2009-06-15 17:26:21 -73.844311         40.721319         \n",
       "1  16.9        2010-01-05 16:52:16 -74.016048         40.711303         \n",
       "2  5.7         2011-08-18 00:35:00 -73.982738         40.761270         \n",
       "3  7.7         2012-04-21 04:30:42 -73.987130         40.733143         \n",
       "4  5.3         2010-03-09 07:51:00 -73.968095         40.768008         \n",
       "\n",
       "   dropoff_longitude  dropoff_latitude  passenger_count pickup_date  \\\n",
       "0 -73.841610          40.712278         1.0              2009-06-15   \n",
       "1 -73.979268          40.782004         1.0              2010-01-05   \n",
       "2 -73.991242          40.750562         2.0              2011-08-18   \n",
       "3 -73.991567          40.758092         1.0              2012-04-21   \n",
       "4 -73.956655          40.783762         1.0              2010-03-09   \n",
       "\n",
       "   pickup_day  pickup_hour  \n",
       "0  15.0        17.0         \n",
       "1  5.0         16.0         \n",
       "2  18.0        0.0          \n",
       "3  21.0        4.0          \n",
       "4  9.0         7.0          "
      ]
     },
     "execution_count": 61,
     "metadata": {},
     "output_type": "execute_result"
    }
   ],
   "source": [
    "df['pickup_date'] = df['pickup_datetime'].dt.date\n",
    "df['pickup_day']= df['pickup_datetime'].apply(lambda x:x.day)\n",
    "df['pickup_hour']= df['pickup_datetime'].apply(lambda x:x.hour)\n",
    "# df['pickup_day_of_week']= df['pickup_datetime'].apply(lambda x:calendar.day_name[x.weekday()])\n",
    "# df['pickup_month']=df['pickup_datetime'].apply(lambda x:x.month)\n",
    "# df['pickup_year']=df['pickup_datetime'].apply(lambda x:x.year)\n",
    "df.head()"
   ]
  },
  {
   "cell_type": "code",
   "execution_count": 64,
   "metadata": {},
   "outputs": [
    {
     "ename": "KeyError",
     "evalue": "\"['pickup_fare_amount'] not found in axis\"",
     "output_type": "error",
     "traceback": [
      "\u001b[1;31m---------------------------------------------------------------------------\u001b[0m",
      "\u001b[1;31mKeyError\u001b[0m                                  Traceback (most recent call last)",
      "\u001b[1;32m<ipython-input-64-6e1e88b6852d>\u001b[0m in \u001b[0;36m<module>\u001b[1;34m\u001b[0m\n\u001b[1;32m----> 1\u001b[1;33m \u001b[0mdf_without_date\u001b[0m \u001b[1;33m=\u001b[0m \u001b[0mdf\u001b[0m\u001b[1;33m.\u001b[0m\u001b[0mdrop\u001b[0m\u001b[1;33m(\u001b[0m\u001b[1;34m'pickup_fare_amount'\u001b[0m\u001b[1;33m,\u001b[0m \u001b[0maxis\u001b[0m \u001b[1;33m=\u001b[0m\u001b[1;36m0\u001b[0m\u001b[1;33m)\u001b[0m\u001b[1;33m\u001b[0m\u001b[1;33m\u001b[0m\u001b[0m\n\u001b[0m",
      "\u001b[1;32mD:\\ProgramFiles\\Jupyter\\lib\\site-packages\\pandas\\core\\frame.py\u001b[0m in \u001b[0;36mdrop\u001b[1;34m(self, labels, axis, index, columns, level, inplace, errors)\u001b[0m\n\u001b[0;32m   3938\u001b[0m                                            \u001b[0mindex\u001b[0m\u001b[1;33m=\u001b[0m\u001b[0mindex\u001b[0m\u001b[1;33m,\u001b[0m \u001b[0mcolumns\u001b[0m\u001b[1;33m=\u001b[0m\u001b[0mcolumns\u001b[0m\u001b[1;33m,\u001b[0m\u001b[1;33m\u001b[0m\u001b[1;33m\u001b[0m\u001b[0m\n\u001b[0;32m   3939\u001b[0m                                            \u001b[0mlevel\u001b[0m\u001b[1;33m=\u001b[0m\u001b[0mlevel\u001b[0m\u001b[1;33m,\u001b[0m \u001b[0minplace\u001b[0m\u001b[1;33m=\u001b[0m\u001b[0minplace\u001b[0m\u001b[1;33m,\u001b[0m\u001b[1;33m\u001b[0m\u001b[1;33m\u001b[0m\u001b[0m\n\u001b[1;32m-> 3940\u001b[1;33m                                            errors=errors)\n\u001b[0m\u001b[0;32m   3941\u001b[0m \u001b[1;33m\u001b[0m\u001b[0m\n\u001b[0;32m   3942\u001b[0m     @rewrite_axis_style_signature('mapper', [('copy', True),\n",
      "\u001b[1;32mD:\\ProgramFiles\\Jupyter\\lib\\site-packages\\pandas\\core\\generic.py\u001b[0m in \u001b[0;36mdrop\u001b[1;34m(self, labels, axis, index, columns, level, inplace, errors)\u001b[0m\n\u001b[0;32m   3778\u001b[0m         \u001b[1;32mfor\u001b[0m \u001b[0maxis\u001b[0m\u001b[1;33m,\u001b[0m \u001b[0mlabels\u001b[0m \u001b[1;32min\u001b[0m \u001b[0maxes\u001b[0m\u001b[1;33m.\u001b[0m\u001b[0mitems\u001b[0m\u001b[1;33m(\u001b[0m\u001b[1;33m)\u001b[0m\u001b[1;33m:\u001b[0m\u001b[1;33m\u001b[0m\u001b[1;33m\u001b[0m\u001b[0m\n\u001b[0;32m   3779\u001b[0m             \u001b[1;32mif\u001b[0m \u001b[0mlabels\u001b[0m \u001b[1;32mis\u001b[0m \u001b[1;32mnot\u001b[0m \u001b[1;32mNone\u001b[0m\u001b[1;33m:\u001b[0m\u001b[1;33m\u001b[0m\u001b[1;33m\u001b[0m\u001b[0m\n\u001b[1;32m-> 3780\u001b[1;33m                 \u001b[0mobj\u001b[0m \u001b[1;33m=\u001b[0m \u001b[0mobj\u001b[0m\u001b[1;33m.\u001b[0m\u001b[0m_drop_axis\u001b[0m\u001b[1;33m(\u001b[0m\u001b[0mlabels\u001b[0m\u001b[1;33m,\u001b[0m \u001b[0maxis\u001b[0m\u001b[1;33m,\u001b[0m \u001b[0mlevel\u001b[0m\u001b[1;33m=\u001b[0m\u001b[0mlevel\u001b[0m\u001b[1;33m,\u001b[0m \u001b[0merrors\u001b[0m\u001b[1;33m=\u001b[0m\u001b[0merrors\u001b[0m\u001b[1;33m)\u001b[0m\u001b[1;33m\u001b[0m\u001b[1;33m\u001b[0m\u001b[0m\n\u001b[0m\u001b[0;32m   3781\u001b[0m \u001b[1;33m\u001b[0m\u001b[0m\n\u001b[0;32m   3782\u001b[0m         \u001b[1;32mif\u001b[0m \u001b[0minplace\u001b[0m\u001b[1;33m:\u001b[0m\u001b[1;33m\u001b[0m\u001b[1;33m\u001b[0m\u001b[0m\n",
      "\u001b[1;32mD:\\ProgramFiles\\Jupyter\\lib\\site-packages\\pandas\\core\\generic.py\u001b[0m in \u001b[0;36m_drop_axis\u001b[1;34m(self, labels, axis, level, errors)\u001b[0m\n\u001b[0;32m   3810\u001b[0m                 \u001b[0mnew_axis\u001b[0m \u001b[1;33m=\u001b[0m \u001b[0maxis\u001b[0m\u001b[1;33m.\u001b[0m\u001b[0mdrop\u001b[0m\u001b[1;33m(\u001b[0m\u001b[0mlabels\u001b[0m\u001b[1;33m,\u001b[0m \u001b[0mlevel\u001b[0m\u001b[1;33m=\u001b[0m\u001b[0mlevel\u001b[0m\u001b[1;33m,\u001b[0m \u001b[0merrors\u001b[0m\u001b[1;33m=\u001b[0m\u001b[0merrors\u001b[0m\u001b[1;33m)\u001b[0m\u001b[1;33m\u001b[0m\u001b[1;33m\u001b[0m\u001b[0m\n\u001b[0;32m   3811\u001b[0m             \u001b[1;32melse\u001b[0m\u001b[1;33m:\u001b[0m\u001b[1;33m\u001b[0m\u001b[1;33m\u001b[0m\u001b[0m\n\u001b[1;32m-> 3812\u001b[1;33m                 \u001b[0mnew_axis\u001b[0m \u001b[1;33m=\u001b[0m \u001b[0maxis\u001b[0m\u001b[1;33m.\u001b[0m\u001b[0mdrop\u001b[0m\u001b[1;33m(\u001b[0m\u001b[0mlabels\u001b[0m\u001b[1;33m,\u001b[0m \u001b[0merrors\u001b[0m\u001b[1;33m=\u001b[0m\u001b[0merrors\u001b[0m\u001b[1;33m)\u001b[0m\u001b[1;33m\u001b[0m\u001b[1;33m\u001b[0m\u001b[0m\n\u001b[0m\u001b[0;32m   3813\u001b[0m             \u001b[0mresult\u001b[0m \u001b[1;33m=\u001b[0m \u001b[0mself\u001b[0m\u001b[1;33m.\u001b[0m\u001b[0mreindex\u001b[0m\u001b[1;33m(\u001b[0m\u001b[1;33m**\u001b[0m\u001b[1;33m{\u001b[0m\u001b[0maxis_name\u001b[0m\u001b[1;33m:\u001b[0m \u001b[0mnew_axis\u001b[0m\u001b[1;33m}\u001b[0m\u001b[1;33m)\u001b[0m\u001b[1;33m\u001b[0m\u001b[1;33m\u001b[0m\u001b[0m\n\u001b[0;32m   3814\u001b[0m \u001b[1;33m\u001b[0m\u001b[0m\n",
      "\u001b[1;32mD:\\ProgramFiles\\Jupyter\\lib\\site-packages\\pandas\\core\\indexes\\base.py\u001b[0m in \u001b[0;36mdrop\u001b[1;34m(self, labels, errors)\u001b[0m\n\u001b[0;32m   4963\u001b[0m             \u001b[1;32mif\u001b[0m \u001b[0merrors\u001b[0m \u001b[1;33m!=\u001b[0m \u001b[1;34m'ignore'\u001b[0m\u001b[1;33m:\u001b[0m\u001b[1;33m\u001b[0m\u001b[1;33m\u001b[0m\u001b[0m\n\u001b[0;32m   4964\u001b[0m                 raise KeyError(\n\u001b[1;32m-> 4965\u001b[1;33m                     '{} not found in axis'.format(labels[mask]))\n\u001b[0m\u001b[0;32m   4966\u001b[0m             \u001b[0mindexer\u001b[0m \u001b[1;33m=\u001b[0m \u001b[0mindexer\u001b[0m\u001b[1;33m[\u001b[0m\u001b[1;33m~\u001b[0m\u001b[0mmask\u001b[0m\u001b[1;33m]\u001b[0m\u001b[1;33m\u001b[0m\u001b[1;33m\u001b[0m\u001b[0m\n\u001b[0;32m   4967\u001b[0m         \u001b[1;32mreturn\u001b[0m \u001b[0mself\u001b[0m\u001b[1;33m.\u001b[0m\u001b[0mdelete\u001b[0m\u001b[1;33m(\u001b[0m\u001b[0mindexer\u001b[0m\u001b[1;33m)\u001b[0m\u001b[1;33m\u001b[0m\u001b[1;33m\u001b[0m\u001b[0m\n",
      "\u001b[1;31mKeyError\u001b[0m: \"['pickup_fare_amount'] not found in axis\""
     ]
    }
   ],
   "source": [
    "df_without_date = df.drop('pickup_fare_amount', axis =0)"
   ]
  },
  {
   "cell_type": "code",
   "execution_count": 63,
   "metadata": {},
   "outputs": [
    {
     "data": {
      "text/plain": [
       "fare_amount          0.0\n",
       "pickup_datetime      0.0\n",
       "pickup_longitude     0.0\n",
       "pickup_latitude      0.0\n",
       "dropoff_longitude    0.0\n",
       "dropoff_latitude     0.0\n",
       "passenger_count      0.0\n",
       "pickup_date          0.0\n",
       "pickup_day           0.0\n",
       "pickup_hour          0.0\n",
       "dtype: float64"
      ]
     },
     "execution_count": 63,
     "metadata": {},
     "output_type": "execute_result"
    }
   ],
   "source": [
    "# Checking for Null Values\n",
    "df[pd.isna(df)].sum()"
   ]
  },
  {
   "cell_type": "code",
   "execution_count": 6,
   "metadata": {},
   "outputs": [
    {
     "name": "stdout",
     "output_type": "stream",
     "text": [
      "Old Size is 16066\n",
      "New Size is 16066 \n"
     ]
    }
   ],
   "source": [
    "print('Old Size is %d' % len(df))\n",
    "df['fare_amount'] = df['fare_amount'].where(df['fare_amount']>=0)\n",
    "print('New Size is %d ' % len(df))"
   ]
  },
  {
   "cell_type": "code",
   "execution_count": 7,
   "metadata": {},
   "outputs": [
    {
     "data": {
      "text/plain": [
       "Text(0.5, 1.0, 'Histogram')"
      ]
     },
     "execution_count": 7,
     "metadata": {},
     "output_type": "execute_result"
    },
    {
     "data": {
      "image/png": "[encoded data removed]",
      "text/plain": [
       "<Figure size 1008x216 with 1 Axes>"
      ]
     },
     "metadata": {
      "needs_background": "light"
     },
     "output_type": "display_data"
    }
   ],
   "source": [
    "#Plotting a Histogram for Analyzing the Fare Amount\n",
    "df[df.fare_amount<100].fare_amount.hist(bins=100, figsize=(14,3))\n",
    "plt.xlabel('Fare in USD')\n",
    "plt.title(\"Histogram\")\n",
    "#Here we observed that most of the Cab fare are between 0-20 $\n",
    "# There is almost no Cab who's fare is greater than 60$"
   ]
  },
  {
   "cell_type": "code",
   "execution_count": 8,
   "metadata": {},
   "outputs": [
    {
     "data": {
      "text/plain": [
       "Text(0.5, 1.0, 'Distribution of Plot Fare')"
      ]
     },
     "execution_count": 8,
     "metadata": {},
     "output_type": "execute_result"
    },
    {
     "data": {
      "image/png": "[encoded data removed]",
      "text/plain": [
       "<Figure size 864x576 with 1 Axes>"
      ]
     },
     "metadata": {
      "needs_background": "light"
     },
     "output_type": "display_data"
    }
   ],
   "source": [
    "# Using Seaborn Plotting the same Fare or Trip amount\n",
    "plt.figure(figsize=(12,8))\n",
    "sns.kdeplot(df['fare_amount']).set_title(\"Distribution of Plot Fare\")"
   ]
  },
  {
   "cell_type": "code",
   "execution_count": 9,
   "metadata": {},
   "outputs": [
    {
     "data": {
      "text/plain": [
       "Text(0.5, 1.0, 'Distribution of Plot Fare on Logaramatic Scale')"
      ]
     },
     "execution_count": 9,
     "metadata": {},
     "output_type": "execute_result"
    },
    {
     "data": {
      "image/png": "[encoded data removed]",
      "text/plain": [
       "<Figure size 864x576 with 1 Axes>"
      ]
     },
     "metadata": {
      "needs_background": "light"
     },
     "output_type": "display_data"
    }
   ],
   "source": [
    "plt.figure(figsize=(12,8))\n",
    "sns.kdeplot(np.log(df['fare_amount'].values)).set_title(\"Distribution of Plot Fare on Logaramatic Scale\")"
   ]
  },
  {
   "cell_type": "markdown",
   "metadata": {},
   "source": [
    "# Let us look at Geographical Features and Fare Amount\n",
    "Distribution of Pickup and Dropoff Lat Lng\n",
    "\n"
   ]
  },
  {
   "cell_type": "code",
   "execution_count": 10,
   "metadata": {},
   "outputs": [
    {
     "name": "stdout",
     "output_type": "stream",
     "text": [
      ">> Data Available since 0.0\n",
      ">> Data Available upto 54343.0\n"
     ]
    }
   ],
   "source": [
    "print(f\">> Data Available since {df.fare_amount.min()}\")\n",
    "print(f\">> Data Available upto {df.fare_amount.max()}\")"
   ]
  },
  {
   "cell_type": "code",
   "execution_count": 11,
   "metadata": {},
   "outputs": [
    {
     "data": {
      "text/plain": [
       "fare_amount          0.0\n",
       "pickup_datetime      0.0\n",
       "pickup_longitude     0.0\n",
       "pickup_latitude      0.0\n",
       "dropoff_longitude    0.0\n",
       "dropoff_latitude     0.0\n",
       "passenger_count      0.0\n",
       "pickup_date          0.0\n",
       "pickup_day           0.0\n",
       "pickup_hour          0.0\n",
       "dtype: float64"
      ]
     },
     "execution_count": 11,
     "metadata": {},
     "output_type": "execute_result"
    }
   ],
   "source": [
    "# Checking for Null values\n",
    "df[pd.isnull(df)].sum()"
   ]
  },
  {
   "cell_type": "markdown",
   "metadata": {},
   "source": [
    "# Exploratory Data Analysis"
   ]
  },
  {
   "cell_type": "markdown",
   "metadata": {},
   "source": [
    "Let's Plot a HeatMap with Seaborn to see the correlation between the Variables"
   ]
  },
  {
   "cell_type": "code",
   "execution_count": 12,
   "metadata": {},
   "outputs": [
    {
     "data": {
      "image/png": "[encoded data removed]",
      "text/plain": [
       "<Figure size 2160x1440 with 2 Axes>"
      ]
     },
     "metadata": {
      "needs_background": "light"
     },
     "output_type": "display_data"
    }
   ],
   "source": [
    "corrmat = df.corr()\n",
    "top_corr_features = corrmat.index\n",
    "top_corr_features\n",
    "plt.figure(figsize=(30,20))\n",
    "#plot heat map\n",
    "g=sns.heatmap(df[top_corr_features].corr(),annot=True,cmap=\"RdYlGn\")"
   ]
  },
  {
   "cell_type": "code",
   "execution_count": 13,
   "metadata": {},
   "outputs": [
    {
     "name": "stdout",
     "output_type": "stream",
     "text": [
      "Shape of the Data (16066, 10)\n"
     ]
    }
   ],
   "source": [
    "# Checking the Distribution of the Data\n",
    "df.dtypes\n",
    "print(\"Shape of the Data\",df.shape)\n",
    "df1 = df['pickup_datetime']"
   ]
  },
  {
   "cell_type": "code",
   "execution_count": 14,
   "metadata": {},
   "outputs": [],
   "source": [
    "traintypes = {'fare_amount': 'float32',\n",
    "              'pickup_datetime': 'str', \n",
    "              'pickup_longitude': 'float32',\n",
    "              'pickup_latitude': 'float32',\n",
    "              'dropoff_longitude': 'float32',\n",
    "              'dropoff_latitude': 'float32',\n",
    "              'passenger_count': 'uint8'}\n",
    "\n",
    "cols = list(traintypes.keys())"
   ]
  },
  {
   "cell_type": "code",
   "execution_count": 15,
   "metadata": {},
   "outputs": [],
   "source": [
    "df['Datetime']=pd.to_datetime('2009-06-15 17:26:21 UTC',format='%Y-%m-%d %H:%M:%S UTC')"
   ]
  },
  {
   "cell_type": "code",
   "execution_count": 16,
   "metadata": {},
   "outputs": [
    {
     "data": {
      "text/plain": [
       "fare_amount          float64       \n",
       "pickup_datetime      datetime64[ns]\n",
       "pickup_longitude     float64       \n",
       "pickup_latitude      float64       \n",
       "dropoff_longitude    float64       \n",
       "dropoff_latitude     float64       \n",
       "passenger_count      float64       \n",
       "pickup_date          object        \n",
       "pickup_day           float64       \n",
       "pickup_hour          float64       \n",
       "Datetime             datetime64[ns]\n",
       "dtype: object"
      ]
     },
     "execution_count": 16,
     "metadata": {},
     "output_type": "execute_result"
    }
   ],
   "source": [
    "df.dtypes"
   ]
  },
  {
   "cell_type": "code",
   "execution_count": 17,
   "metadata": {},
   "outputs": [],
   "source": [
    "# Now we will be taking a look at Geographical Features and their Relationship with Fare amount\n",
    "# Distribution of Pickup and Dropoff Latitude Longitude"
   ]
  },
  {
   "cell_type": "code",
   "execution_count": 18,
   "metadata": {},
   "outputs": [
    {
     "name": "stdout",
     "output_type": "stream",
     "text": [
      "Range of Pickup Latitude is  -74.006893 401.083332\n"
     ]
    }
   ],
   "source": [
    "print('Range of Pickup Latitude is ', min(df['pickup_latitude']), max(df['pickup_latitude']))"
   ]
  },
  {
   "cell_type": "code",
   "execution_count": 19,
   "metadata": {},
   "outputs": [
    {
     "name": "stdout",
     "output_type": "stream",
     "text": [
      "Range of Pickup Latitude is  -74.006377 40.802437\n"
     ]
    }
   ],
   "source": [
    "print('Range of Pickup Latitude is ', min(df['dropoff_latitude']), max(df['dropoff_longitude']))"
   ]
  },
  {
   "cell_type": "markdown",
   "metadata": {
    "scrolled": true
   },
   "source": [
    "The data is for Taxi Rides in Newyork, whose center lat, lng is at ((40,-74).The range of dropoff and pickup latitudes indicates lot of outlier locations in the train data.\n",
    "\n"
   ]
  },
  {
   "cell_type": "code",
   "execution_count": 20,
   "metadata": {},
   "outputs": [
    {
     "name": "stdout",
     "output_type": "stream",
     "text": [
      "Longitude Boundaries in the test data\n"
     ]
    },
    {
     "data": {
      "text/plain": [
       "(-74.263242, -72.986532)"
      ]
     },
     "execution_count": 20,
     "metadata": {},
     "output_type": "execute_result"
    }
   ],
   "source": [
    "# Before we move ahead and Identify outliertye location, let us read the test data and see what the boundaries are\n",
    "test = pd.read_csv('C:/Users/nsida/Cab fare prediction/test.csv')\n",
    "print(\"Longitude Boundaries in the test data\")\n",
    "min(test.pickup_longitude.min(), test.dropoff_longitude.min()),max(test.pickup_longitude.max(), test.dropoff_longitude.max())"
   ]
  },
  {
   "cell_type": "code",
   "execution_count": 21,
   "metadata": {},
   "outputs": [
    {
     "name": "stdout",
     "output_type": "stream",
     "text": [
      "Latitude Boundaries in the test data\n"
     ]
    },
    {
     "data": {
      "text/plain": [
       "(40.568973, 41.709555)"
      ]
     },
     "execution_count": 21,
     "metadata": {},
     "output_type": "execute_result"
    }
   ],
   "source": [
    "print(\"Latitude Boundaries in the test data\")\n",
    "min(test.pickup_latitude.min(), test.dropoff_latitude.min()),max(test.pickup_latitude.max(), test.dropoff_latitude.max())"
   ]
  },
  {
   "cell_type": "code",
   "execution_count": 22,
   "metadata": {},
   "outputs": [],
   "source": [
    "# Drawing a Map on top of ZGood \n",
    "\n",
    "# !pip install gmplot\n",
    "import gmplot \n",
    "gmap3 = gmplot.GoogleMapPlotter(30.3164945, \n",
    "                                78.03219179999999, 13) \n",
    "\n",
    "gmap3.scatter(df['pickup_latitude'],df['pickup_longitude'] , '# FF0000', \n",
    "                              size = 40, marker = False ) \n",
    "  \n",
    "# Plot method Draw a line in \n",
    "# between given coordinates \n",
    "gmap3.plot(df['dropoff_latitude'], df['dropoff_longitude'],  \n",
    "           'cornflowerblue', edge_width = 2.5) \n",
    "  \n",
    "gmap3.draw( \"C://Users/nsida/map13.html\")"
   ]
  },
  {
   "cell_type": "code",
   "execution_count": 23,
   "metadata": {},
   "outputs": [
    {
     "data": {
      "text/html": [
       "<div>\n",
       "<style scoped>\n",
       "    .dataframe tbody tr th:only-of-type {\n",
       "        vertical-align: middle;\n",
       "    }\n",
       "\n",
       "    .dataframe tbody tr th {\n",
       "        vertical-align: top;\n",
       "    }\n",
       "\n",
       "    .dataframe thead th {\n",
       "        text-align: right;\n",
       "    }\n",
       "</style>\n",
       "<table border=\"1\" class=\"dataframe\">\n",
       "  <thead>\n",
       "    <tr style=\"text-align: right;\">\n",
       "      <th></th>\n",
       "      <th>fare_amount</th>\n",
       "      <th>pickup_longitude</th>\n",
       "      <th>pickup_latitude</th>\n",
       "      <th>dropoff_longitude</th>\n",
       "      <th>dropoff_latitude</th>\n",
       "      <th>passenger_count</th>\n",
       "      <th>pickup_day</th>\n",
       "      <th>pickup_hour</th>\n",
       "    </tr>\n",
       "  </thead>\n",
       "  <tbody>\n",
       "    <tr>\n",
       "      <th>count</th>\n",
       "      <td>16038.000000</td>\n",
       "      <td>16066.000000</td>\n",
       "      <td>16066.000000</td>\n",
       "      <td>16066.000000</td>\n",
       "      <td>16066.000000</td>\n",
       "      <td>16012.000000</td>\n",
       "      <td>16065.000000</td>\n",
       "      <td>16065.000000</td>\n",
       "    </tr>\n",
       "    <tr>\n",
       "      <th>mean</th>\n",
       "      <td>15.018743</td>\n",
       "      <td>-72.462691</td>\n",
       "      <td>39.914675</td>\n",
       "      <td>-72.462233</td>\n",
       "      <td>39.897852</td>\n",
       "      <td>2.625070</td>\n",
       "      <td>15.669966</td>\n",
       "      <td>13.498288</td>\n",
       "    </tr>\n",
       "    <tr>\n",
       "      <th>std</th>\n",
       "      <td>430.514553</td>\n",
       "      <td>10.578706</td>\n",
       "      <td>6.826797</td>\n",
       "      <td>10.575384</td>\n",
       "      <td>6.187276</td>\n",
       "      <td>60.844122</td>\n",
       "      <td>8.683470</td>\n",
       "      <td>6.519919</td>\n",
       "    </tr>\n",
       "    <tr>\n",
       "      <th>min</th>\n",
       "      <td>0.000000</td>\n",
       "      <td>-74.438233</td>\n",
       "      <td>-74.006893</td>\n",
       "      <td>-74.429332</td>\n",
       "      <td>-74.006377</td>\n",
       "      <td>0.000000</td>\n",
       "      <td>1.000000</td>\n",
       "      <td>0.000000</td>\n",
       "    </tr>\n",
       "    <tr>\n",
       "      <th>25%</th>\n",
       "      <td>6.000000</td>\n",
       "      <td>-73.992155</td>\n",
       "      <td>40.734935</td>\n",
       "      <td>-73.991182</td>\n",
       "      <td>40.734647</td>\n",
       "      <td>1.000000</td>\n",
       "      <td>8.000000</td>\n",
       "      <td>9.000000</td>\n",
       "    </tr>\n",
       "    <tr>\n",
       "      <th>50%</th>\n",
       "      <td>8.500000</td>\n",
       "      <td>-73.981697</td>\n",
       "      <td>40.752605</td>\n",
       "      <td>-73.980170</td>\n",
       "      <td>40.753566</td>\n",
       "      <td>1.000000</td>\n",
       "      <td>16.000000</td>\n",
       "      <td>14.000000</td>\n",
       "    </tr>\n",
       "    <tr>\n",
       "      <th>75%</th>\n",
       "      <td>12.500000</td>\n",
       "      <td>-73.966837</td>\n",
       "      <td>40.767381</td>\n",
       "      <td>-73.963642</td>\n",
       "      <td>40.768015</td>\n",
       "      <td>2.000000</td>\n",
       "      <td>23.000000</td>\n",
       "      <td>19.000000</td>\n",
       "    </tr>\n",
       "    <tr>\n",
       "      <th>max</th>\n",
       "      <td>54343.000000</td>\n",
       "      <td>40.766125</td>\n",
       "      <td>401.083332</td>\n",
       "      <td>40.802437</td>\n",
       "      <td>41.366138</td>\n",
       "      <td>5345.000000</td>\n",
       "      <td>31.000000</td>\n",
       "      <td>23.000000</td>\n",
       "    </tr>\n",
       "  </tbody>\n",
       "</table>\n",
       "</div>"
      ],
      "text/plain": [
       "        fare_amount  pickup_longitude  pickup_latitude  dropoff_longitude  \\\n",
       "count  16038.000000  16066.000000      16066.000000     16066.000000        \n",
       "mean   15.018743    -72.462691         39.914675       -72.462233           \n",
       "std    430.514553    10.578706         6.826797         10.575384           \n",
       "min    0.000000     -74.438233        -74.006893       -74.429332           \n",
       "25%    6.000000     -73.992155         40.734935       -73.991182           \n",
       "50%    8.500000     -73.981697         40.752605       -73.980170           \n",
       "75%    12.500000    -73.966837         40.767381       -73.963642           \n",
       "max    54343.000000  40.766125         401.083332       40.802437           \n",
       "\n",
       "       dropoff_latitude  passenger_count    pickup_day   pickup_hour  \n",
       "count  16066.000000      16012.000000     16065.000000  16065.000000  \n",
       "mean   39.897852         2.625070         15.669966     13.498288     \n",
       "std    6.187276          60.844122        8.683470      6.519919      \n",
       "min   -74.006377         0.000000         1.000000      0.000000      \n",
       "25%    40.734647         1.000000         8.000000      9.000000      \n",
       "50%    40.753566         1.000000         16.000000     14.000000     \n",
       "75%    40.768015         2.000000         23.000000     19.000000     \n",
       "max    41.366138         5345.000000      31.000000     23.000000     "
      ]
     },
     "execution_count": 23,
     "metadata": {},
     "output_type": "execute_result"
    }
   ],
   "source": [
    "df.describe()"
   ]
  },
  {
   "cell_type": "code",
   "execution_count": 24,
   "metadata": {},
   "outputs": [],
   "source": [
    "# Let us set the boundary for the train data also based on test data latitude and longitude boundaries.\n",
    "# We will mark the locations as 1 and remove them for further analysis\n",
    "boundary={'min_lng':-74.263242,\n",
    "              'min_lat':40.568973,\n",
    "              'max_lng':-72.986532,\n",
    "              'max_lat':41.709555}"
   ]
  },
  {
   "cell_type": "markdown",
   "metadata": {},
   "source": [
    "# We will also be checking if there any cases where the latitude longitude is zero, if Yes. How many such cases are there in our Data?\n"
   ]
  },
  {
   "cell_type": "code",
   "execution_count": 25,
   "metadata": {},
   "outputs": [
    {
     "data": {
      "text/plain": [
       "(326, 11)"
      ]
     },
     "execution_count": 25,
     "metadata": {},
     "output_type": "execute_result"
    }
   ],
   "source": [
    "df[(df.pickup_latitude == 0) | (df.pickup_longitude == 0) | (df.dropoff_latitude == 0) | (df.dropoff_longitude == 0)].shape"
   ]
  },
  {
   "cell_type": "markdown",
   "metadata": {},
   "source": [
    "# So we got to know there are 326 rows having their latitude and longitude as zero. These are Trips or rides that mistakenly got their latitudes and Longitudes zero for some reason. Could be due to Malfunctioning of the System or some other reasons too. We don't know"
   ]
  },
  {
   "cell_type": "code",
   "execution_count": 26,
   "metadata": {},
   "outputs": [
    {
     "name": "stdout",
     "output_type": "stream",
     "text": [
      "Outlier vs Non Outlier Counts\n",
      "0.0    15713\n",
      "1.0    353  \n",
      "Name: is_outlier_loc, dtype: int64\n"
     ]
    }
   ],
   "source": [
    "df.loc[~((df.pickup_longitude >= boundary['min_lng'] ) & (df.pickup_longitude <= boundary['max_lng']) &\n",
    "            (df.pickup_latitude >= boundary['min_lat']) & (df.pickup_latitude <= boundary['max_lat']) &\n",
    "            (df.dropoff_longitude >= boundary['min_lng']) & (df.dropoff_longitude <= boundary['max_lng']) &\n",
    "            (df.dropoff_latitude >=boundary['min_lat']) & (df.dropoff_latitude <= boundary['max_lat'])),'is_outlier_loc']=1\n",
    "df.loc[((df.pickup_longitude >= boundary['min_lng'] ) & (df.pickup_longitude <= boundary['max_lng']) &\n",
    "            (df.pickup_latitude >= boundary['min_lat']) & (df.pickup_latitude <= boundary['max_lat']) &\n",
    "            (df.dropoff_longitude >= boundary['min_lng']) & (df.dropoff_longitude <= boundary['max_lng']) &\n",
    "            (df.dropoff_latitude >=boundary['min_lat']) & (df.dropoff_latitude <= boundary['max_lat'])),'is_outlier_loc']=0\n",
    "\n",
    "print(\"Outlier vs Non Outlier Counts\")\n",
    "print(df['is_outlier_loc'].value_counts())\n",
    "\n",
    "# So now let's Drop some rows, where location is an outlier\n",
    "df = df.loc[df['is_outlier_loc']==0]\n",
    "df.drop(['is_outlier_loc'], axis=1, inplace=True)"
   ]
  },
  {
   "cell_type": "code",
   "execution_count": 27,
   "metadata": {},
   "outputs": [
    {
     "data": {
      "text/plain": [
       "(15713, 11)"
      ]
     },
     "execution_count": 27,
     "metadata": {},
     "output_type": "execute_result"
    }
   ],
   "source": [
    "# Plot Heatmap of Pickups and Dropoffs within NYC\n",
    "df.shape"
   ]
  },
  {
   "cell_type": "code",
   "execution_count": 28,
   "metadata": {},
   "outputs": [
    {
     "data": {
      "text/plain": [
       "Text(0.5, 1.0, 'Dropoff Within the New York City Border')"
      ]
     },
     "execution_count": 28,
     "metadata": {},
     "output_type": "execute_result"
    },
    {
     "data": {
      "image/png": "[encoded data removed]",
      "text/plain": [
       "<Figure size 432x288 with 1 Axes>"
      ]
     },
     "metadata": {
      "needs_background": "light"
     },
     "output_type": "display_data"
    }
   ],
   "source": [
    "# Plot Heatmap of Pickups and Dropoffs within NYC we set the Borders as-\n",
    "city_long_border = (-74.03, -73.75)\n",
    "city_lat_border = (40.63, 40.85)\n",
    "\n",
    "df.plot(kind = 'scatter', x='dropoff_longitude', y='dropoff_latitude', \n",
    "       color='green', s=0.2, alpha=.6)\n",
    "plt.title(\"Dropoff Within the New York City Border\")\n"
   ]
  },
  {
   "cell_type": "code",
   "execution_count": 29,
   "metadata": {},
   "outputs": [
    {
     "data": {
      "text/plain": [
       "(-74.03, -73.75)"
      ]
     },
     "execution_count": 29,
     "metadata": {},
     "output_type": "execute_result"
    },
    {
     "data": {
      "image/png": "[encoded data removed]",
      "text/plain": [
       "<Figure size 432x288 with 1 Axes>"
      ]
     },
     "metadata": {
      "needs_background": "light"
     },
     "output_type": "display_data"
    }
   ],
   "source": [
    "df.plot(kind='scatter', x = 'pickup_longitude', y='pickup_latitude', \n",
    "       color='blue',\n",
    "       s=0.02, alpha=0.6)\n",
    "plt.title(\"Pickup\")\n",
    "plt.xlabel(\"\")\n",
    "\n",
    "plt.ylim(city_lat_border)\n",
    "plt.xlim(city_long_border)"
   ]
  },
  {
   "attachments": {
    "image.png": {
     "image/png": "[encoded data removed]"
    }
   },
   "cell_type": "markdown",
   "metadata": {},
   "source": [
    "![image.png](attachment:image.png)"
   ]
  },
  {
   "cell_type": "markdown",
   "metadata": {},
   "source": [
    "We can see lots of pickups around JFK and LaGuardia Airport, We can also see pickups at manhattan around that place. "
   ]
  },
  {
   "cell_type": "code",
   "execution_count": 30,
   "metadata": {},
   "outputs": [
    {
     "data": {
      "text/html": [
       "<div>\n",
       "<style scoped>\n",
       "    .dataframe tbody tr th:only-of-type {\n",
       "        vertical-align: middle;\n",
       "    }\n",
       "\n",
       "    .dataframe tbody tr th {\n",
       "        vertical-align: top;\n",
       "    }\n",
       "\n",
       "    .dataframe thead th {\n",
       "        text-align: right;\n",
       "    }\n",
       "</style>\n",
       "<table border=\"1\" class=\"dataframe\">\n",
       "  <thead>\n",
       "    <tr style=\"text-align: right;\">\n",
       "      <th></th>\n",
       "      <th>pickup_latitude_round3</th>\n",
       "      <th>pickup_longitude_round3</th>\n",
       "      <th>avg_fare</th>\n",
       "    </tr>\n",
       "  </thead>\n",
       "  <tbody>\n",
       "    <tr>\n",
       "      <th>0</th>\n",
       "      <td>40.572</td>\n",
       "      <td>-74.229</td>\n",
       "      <td>3.7</td>\n",
       "    </tr>\n",
       "    <tr>\n",
       "      <th>1</th>\n",
       "      <td>40.604</td>\n",
       "      <td>-73.780</td>\n",
       "      <td>5.5</td>\n",
       "    </tr>\n",
       "    <tr>\n",
       "      <th>2</th>\n",
       "      <td>40.609</td>\n",
       "      <td>-74.090</td>\n",
       "      <td>7.7</td>\n",
       "    </tr>\n",
       "    <tr>\n",
       "      <th>3</th>\n",
       "      <td>40.615</td>\n",
       "      <td>-73.944</td>\n",
       "      <td>5.5</td>\n",
       "    </tr>\n",
       "    <tr>\n",
       "      <th>4</th>\n",
       "      <td>40.617</td>\n",
       "      <td>-73.929</td>\n",
       "      <td>12.5</td>\n",
       "    </tr>\n",
       "  </tbody>\n",
       "</table>\n",
       "</div>"
      ],
      "text/plain": [
       "   pickup_latitude_round3  pickup_longitude_round3  avg_fare\n",
       "0  40.572                 -74.229                   3.7     \n",
       "1  40.604                 -73.780                   5.5     \n",
       "2  40.609                 -74.090                   7.7     \n",
       "3  40.615                 -73.944                   5.5     \n",
       "4  40.617                 -73.929                   12.5    "
      ]
     },
     "execution_count": 30,
     "metadata": {},
     "output_type": "execute_result"
    }
   ],
   "source": [
    "# Let's round the pickup and Dropoff latitude longitude to 3 decimal places\n",
    "df['pickup_latitude_round3']=df['pickup_latitude'].apply(lambda x:round(x,3))\n",
    "df['pickup_longitude_round3']=df['pickup_longitude'].apply(lambda x:round(x,3))\n",
    "df['dropoff_latitude_round3']=df['dropoff_latitude'].apply(lambda x:round(x,3))\n",
    "df['dropoff_longitude_round3']=df['dropoff_longitude'].apply(lambda x:round(x,3))\n",
    "pickup_fare_amount=df.groupby(['pickup_latitude_round3','pickup_longitude_round3'])['fare_amount'].mean().reset_index().rename(columns={'fare_amount':'avg_fare'})\n",
    "pickup_fare_amount.head()"
   ]
  },
  {
   "cell_type": "code",
   "execution_count": 31,
   "metadata": {},
   "outputs": [
    {
     "name": "stdout",
     "output_type": "stream",
     "text": [
      "Number of Trips with Pickups from JFK 245\n",
      "Number of Trips with Dropoffs to JFK 119\n"
     ]
    }
   ],
   "source": [
    "JFK={'min_lng':-73.8352,\n",
    "     'min_lat':40.6195,\n",
    "     'max_lng':-73.7401, \n",
    "     'max_lat':40.6659}\n",
    "JFK_center=[40.6437,-73.7900]\n",
    "# Get all pickups to JFK\n",
    "JFK_data=df.loc[(df.pickup_latitude>=JFK['min_lat']) & (df.pickup_latitude<=JFK['max_lat'])]\n",
    "JFK_data=JFK_data.loc[(df.pickup_longitude>=JFK['min_lng']) & (df.pickup_longitude<=JFK['max_lng'])]\n",
    "\n",
    "print(\"Number of Trips with Pickups from JFK\",JFK_data.shape[0])\n",
    "\n",
    "JFK_dropoff=df.loc[(df.dropoff_latitude>=JFK['min_lat']) & (df.dropoff_latitude<=JFK['max_lat'])]\n",
    "JFK_dropoff=JFK_dropoff.loc[(df.dropoff_longitude>=JFK['min_lng']) & (df.dropoff_longitude<=JFK['max_lng'])]\n",
    "\n",
    "print(\"Number of Trips with Dropoffs to JFK\",JFK_dropoff.shape[0])\n",
    "\n",
    "\n",
    "# Create a folium map with JFK as the center \n",
    "m=folium.Map(location =JFK_center,zoom_start = 10,)\n",
    "folium.Marker(location=JFK_center, popup='JFK Airport',icon=folium.Icon(color='black')).add_to(m)\n",
    "\n",
    "mc = MarkerCluster().add_to(m)\n",
    "#Add markers in blue for each pickup location and line between JFK and Pickup location over time. The thickness of line indicates the fare_amount\n",
    "\n",
    "for index,row in JFK_data.iterrows():\n",
    "    folium.Marker([row['dropoff_latitude'],row['dropoff_longitude']]).add_to(m)"
   ]
  },
  {
   "cell_type": "code",
   "execution_count": 32,
   "metadata": {},
   "outputs": [],
   "source": [
    "# As we can see, the fare amount is much higher when pickup is from JFK."
   ]
  },
  {
   "cell_type": "code",
   "execution_count": 33,
   "metadata": {},
   "outputs": [
    {
     "data": {
      "text/plain": [
       "Text(0.5, 1.0, 'Fare Amount Distribution')"
      ]
     },
     "execution_count": 33,
     "metadata": {},
     "output_type": "execute_result"
    },
    {
     "data": {
      "image/png": "[encoded data removed]",
      "text/plain": [
       "<Figure size 576x360 with 1 Axes>"
      ]
     },
     "metadata": {
      "needs_background": "light"
     },
     "output_type": "display_data"
    }
   ],
   "source": [
    "# We would like to know what is the average fare of trips when the pickups is around JFK\n",
    "plt.figure(figsize=(8,5))\n",
    "sns.kdeplot(np.log(JFK_data['fare_amount'].values),label='JFK Pickups')\n",
    "sns.kdeplot(np.log(JFK_dropoff['fare_amount'].values),label='JFK Dropoff')\n",
    "sns.kdeplot(np.log(df['fare_amount'].values),label='All Trips in Train data')\n",
    "plt.title(\"Fare Amount Distribution\")"
   ]
  },
  {
   "cell_type": "code",
   "execution_count": 34,
   "metadata": {},
   "outputs": [],
   "source": [
    "del JFK_data\n",
    "del JFK\n",
    "del JFK_dropoff"
   ]
  },
  {
   "cell_type": "code",
   "execution_count": 35,
   "metadata": {},
   "outputs": [],
   "source": [
    "## Based on the above, let us create a function to see whether pickup or dropoff is an Airport. \n",
    "\n",
    "\n",
    "def isAirport(latitude,longitude,airport_name='JFK'):\n",
    "    if airport_name=='JFK':\n",
    "        boundary={'min_lng':-73.8352,\n",
    "     'min_lat':40.6195,\n",
    "     'max_lng':-73.7401, \n",
    "     'max_lat':40.6659}\n",
    "    elif airport_name=='EWR':\n",
    "        boundary={\n",
    "            'min_lng':-74.1925,\n",
    "            'min_lat':40.6700, \n",
    "            'max_lng':-74.1531, \n",
    "            'max_lat':40.7081\n",
    "\n",
    "        }\n",
    "    elif airport_name=='la guardia':\n",
    "        boundary={'min_lng':-73.8895, \n",
    "                  'min_lat':40.7664, \n",
    "                  'max_lng':-73.8550, \n",
    "                  'max_lat':40.7931\n",
    "                 }\n",
    "    if latitude>=boundary['min_lat'] and latitude<=boundary['max_lat']:\n",
    "        if longitude>=boundary['min_lng'] and longitude<=boundary['max_lng']:\n",
    "            return 1\n",
    "    else:\n",
    "        return 0\n",
    "        \n",
    "\n",
    "\n",
    "\n",
    "\n",
    "nyc_airports={'JFK':{'min_lng':-73.8352,\n",
    "     'min_lat':40.6195,\n",
    "     'max_lng':-73.7401, \n",
    "     'max_lat':40.6659},\n",
    "              \n",
    "    'EWR':{'min_lng':-74.1925,\n",
    "            'min_lat':40.6700, \n",
    "            'max_lng':-74.1531, \n",
    "            'max_lat':40.7081\n",
    "\n",
    "        },\n",
    "    'LaGuardia':{'min_lng':-73.8895, \n",
    "                  'min_lat':40.7664, \n",
    "                  'max_lng':-73.8550, \n",
    "                  'max_lat':40.7931\n",
    "        \n",
    "    }\n",
    "    \n",
    "}\n",
    "def isAirport(latitude,longitude,airport_name='JFK'):\n",
    "    \n",
    "    if latitude>=nyc_airports[airport_name]['min_lat'] and latitude<=nyc_airports[airport_name]['max_lat'] and longitude>=nyc_airports[airport_name]['min_lng'] and longitude<=nyc_airports[airport_name]['max_lng']:\n",
    "        return 1\n",
    "    else:\n",
    "        return 0\n",
    "        "
   ]
  },
  {
   "cell_type": "code",
   "execution_count": 36,
   "metadata": {},
   "outputs": [],
   "source": [
    "df['is_pickup_JFK']=df.apply(lambda row:isAirport(row['pickup_latitude'],row['pickup_longitude'],'JFK'),axis=1)\n",
    "df['is_dropoff_JFK']=df.apply(lambda row:isAirport(row['dropoff_latitude'],row['dropoff_longitude'],'JFK'),axis=1)"
   ]
  },
  {
   "cell_type": "code",
   "execution_count": 37,
   "metadata": {},
   "outputs": [
    {
     "data": {
      "text/plain": [
       "0       NaN\n",
       "1       NaN\n",
       "2       NaN\n",
       "3       NaN\n",
       "4       NaN\n",
       "5       NaN\n",
       "6       NaN\n",
       "7       NaN\n",
       "8       NaN\n",
       "9       NaN\n",
       "10      NaN\n",
       "12      NaN\n",
       "13      NaN\n",
       "14      NaN\n",
       "16      NaN\n",
       "17      NaN\n",
       "18      NaN\n",
       "19      NaN\n",
       "20      NaN\n",
       "21      NaN\n",
       "22      NaN\n",
       "23      NaN\n",
       "24      NaN\n",
       "25      NaN\n",
       "27      NaN\n",
       "28      NaN\n",
       "29      NaN\n",
       "30      NaN\n",
       "31      NaN\n",
       "32      NaN\n",
       "         ..\n",
       "16035   NaN\n",
       "16036   NaN\n",
       "16037   NaN\n",
       "16038   NaN\n",
       "16039   NaN\n",
       "16040   NaN\n",
       "16041   NaN\n",
       "16042   NaN\n",
       "16043   NaN\n",
       "16044   NaN\n",
       "16045   NaN\n",
       "16046   NaN\n",
       "16047   NaN\n",
       "16048   NaN\n",
       "16049   NaN\n",
       "16050   NaN\n",
       "16051   NaN\n",
       "16052   NaN\n",
       "16053   NaN\n",
       "16054   NaN\n",
       "16055   NaN\n",
       "16057   NaN\n",
       "16058   NaN\n",
       "16059   NaN\n",
       "16060   NaN\n",
       "16061   NaN\n",
       "16062   NaN\n",
       "16063   NaN\n",
       "16064   NaN\n",
       "16065   NaN\n",
       "Name: is_dropoff_JFK, Length: 15713, dtype: float64"
      ]
     },
     "execution_count": 37,
     "metadata": {},
     "output_type": "execute_result"
    }
   ],
   "source": [
    "(df['is_dropoff_JFK'].where(df['is_dropoff_JFK']==1))"
   ]
  },
  {
   "cell_type": "code",
   "execution_count": 38,
   "metadata": {},
   "outputs": [
    {
     "data": {
      "text/plain": [
       "15713"
      ]
     },
     "execution_count": 38,
     "metadata": {},
     "output_type": "execute_result"
    }
   ],
   "source": [
    "len(df['is_pickup_JFK'])"
   ]
  },
  {
   "cell_type": "code",
   "execution_count": 39,
   "metadata": {},
   "outputs": [],
   "source": [
    "df['is_pickup_EWR']=df.apply(lambda row:isAirport(row['pickup_latitude'],row['pickup_longitude'],'EWR'),axis=1)\n",
    "df['is_dropoff_EWR']=df.apply(lambda row:isAirport(row['dropoff_latitude'],row['dropoff_longitude'],'EWR'),axis=1)"
   ]
  },
  {
   "cell_type": "code",
   "execution_count": 40,
   "metadata": {},
   "outputs": [
    {
     "data": {
      "text/plain": [
       "0      0\n",
       "1      0\n",
       "2      0\n",
       "3      0\n",
       "4      0\n",
       "5      0\n",
       "6      0\n",
       "7      0\n",
       "8      0\n",
       "9      0\n",
       "10     0\n",
       "12     0\n",
       "13     0\n",
       "14     0\n",
       "16     0\n",
       "17     0\n",
       "18     0\n",
       "19     0\n",
       "20     0\n",
       "21     0\n",
       "22     0\n",
       "23     0\n",
       "24     0\n",
       "25     0\n",
       "27     0\n",
       "28     0\n",
       "29     0\n",
       "30     0\n",
       "31     0\n",
       "32     0\n",
       "      ..\n",
       "73     0\n",
       "74     0\n",
       "75     0\n",
       "76     0\n",
       "77     0\n",
       "78     0\n",
       "79     0\n",
       "80     0\n",
       "81     0\n",
       "82     0\n",
       "83     0\n",
       "84     0\n",
       "85     0\n",
       "86     0\n",
       "87     0\n",
       "88     0\n",
       "89     0\n",
       "90     0\n",
       "91     0\n",
       "92     0\n",
       "93     0\n",
       "94     0\n",
       "95     0\n",
       "96     0\n",
       "97     0\n",
       "98     0\n",
       "99     0\n",
       "100    0\n",
       "101    0\n",
       "102    0\n",
       "Name: is_dropoff_EWR, Length: 100, dtype: int64"
      ]
     },
     "execution_count": 40,
     "metadata": {},
     "output_type": "execute_result"
    }
   ],
   "source": [
    "df['is_dropoff_EWR'].head(100)"
   ]
  },
  {
   "cell_type": "code",
   "execution_count": 41,
   "metadata": {},
   "outputs": [],
   "source": [
    "df['is_pickup_la_guardia']=df.apply(lambda row:isAirport(row['pickup_latitude'],row['pickup_longitude'],'LaGuardia'),axis=1)\n",
    "df['is_dropoff_la_guardia']=df.apply(lambda row:isAirport(row['dropoff_latitude'],row['dropoff_longitude'],'LaGuardia'),axis=1)"
   ]
  },
  {
   "cell_type": "code",
   "execution_count": 42,
   "metadata": {},
   "outputs": [],
   "source": [
    "# Trip Distance\n",
    "\n",
    "#calculate trip distance in miles\n",
    "def distance(lat1, lat2, lon1,lon2):\n",
    "    p = 0.017453292519943295 # Pi/180\n",
    "    a = 0.5 - np.cos((lat2 - lat1) * p)/2 + np.cos(lat1 * p) * np.cos(lat2 * p) * (1 - np.cos((lon2 - lon1) * p)) / 2\n",
    "    return 0.6213712 * 12742 * np.arcsin(np.sqrt(a))"
   ]
  },
  {
   "cell_type": "code",
   "execution_count": 43,
   "metadata": {},
   "outputs": [],
   "source": [
    "df['trip_distance']=df.apply(lambda row:distance(row['pickup_latitude'],row['dropoff_latitude'],row['pickup_longitude'],row['dropoff_longitude']),axis=1)\n"
   ]
  },
  {
   "cell_type": "code",
   "execution_count": 44,
   "metadata": {},
   "outputs": [
    {
     "data": {
      "text/plain": [
       "Text(0.5, 1.0, 'Distribution of Trip Distance (log scale)')"
      ]
     },
     "execution_count": 44,
     "metadata": {},
     "output_type": "execute_result"
    },
    {
     "data": {
      "image/png": "[encoded data removed]",
      "text/plain": [
       "<Figure size 432x288 with 1 Axes>"
      ]
     },
     "metadata": {
      "needs_background": "light"
     },
     "output_type": "display_data"
    }
   ],
   "source": [
    "# We are plotting the distribution for Trip Distance\n",
    "sns.kdeplot(np.log(df['trip_distance'].values)).set_title(\"Distribution of Trip Distance (log scale)\")\n"
   ]
  },
  {
   "cell_type": "code",
   "execution_count": 45,
   "metadata": {},
   "outputs": [
    {
     "data": {
      "text/plain": [
       "Text(0.5, 1.0, 'Trip Distance vs Fare Amount')"
      ]
     },
     "execution_count": 45,
     "metadata": {},
     "output_type": "execute_result"
    },
    {
     "data": {
      "image/png": "[encoded data removed]",
      "text/plain": [
       "<Figure size 432x288 with 1 Axes>"
      ]
     },
     "metadata": {
      "needs_background": "light"
     },
     "output_type": "display_data"
    }
   ],
   "source": [
    "plt.scatter(x=df['trip_distance'],y=df['fare_amount'])\n",
    "plt.xlabel(\"Trip Distance\")\n",
    "plt.ylabel(\"Fare Amount\")\n",
    "plt.title(\"Trip Distance vs Fare Amount\")"
   ]
  },
  {
   "cell_type": "code",
   "execution_count": 46,
   "metadata": {},
   "outputs": [
    {
     "data": {
      "text/plain": [
       "84"
      ]
     },
     "execution_count": 46,
     "metadata": {},
     "output_type": "execute_result"
    }
   ],
   "source": [
    "# Here we can see that even for distances are zero let's check for NA's \n",
    "df.isnull().values.sum()"
   ]
  },
  {
   "cell_type": "code",
   "execution_count": 47,
   "metadata": {
    "scrolled": true
   },
   "outputs": [
    {
     "data": {
      "text/plain": [
       "fare_amount                 True \n",
       "pickup_datetime             True \n",
       "pickup_longitude            False\n",
       "pickup_latitude             False\n",
       "dropoff_longitude           False\n",
       "dropoff_latitude            False\n",
       "passenger_count             True \n",
       "pickup_date                 True \n",
       "pickup_day                  True \n",
       "pickup_hour                 True \n",
       "Datetime                    False\n",
       "pickup_latitude_round3      False\n",
       "pickup_longitude_round3     False\n",
       "dropoff_latitude_round3     False\n",
       "dropoff_longitude_round3    False\n",
       "is_pickup_JFK               False\n",
       "is_dropoff_JFK              False\n",
       "is_pickup_EWR               False\n",
       "is_dropoff_EWR              False\n",
       "is_pickup_la_guardia        False\n",
       "is_dropoff_la_guardia       False\n",
       "trip_distance               False\n",
       "dtype: bool"
      ]
     },
     "execution_count": 47,
     "metadata": {},
     "output_type": "execute_result"
    }
   ],
   "source": [
    "df.isnull().any()"
   ]
  },
  {
   "cell_type": "code",
   "execution_count": 48,
   "metadata": {},
   "outputs": [
    {
     "name": "stdout",
     "output_type": "stream",
     "text": [
      "fare_amount                 26\n",
      "pickup_datetime             1 \n",
      "pickup_longitude            0 \n",
      "pickup_latitude             0 \n",
      "dropoff_longitude           0 \n",
      "dropoff_latitude            0 \n",
      "passenger_count             54\n",
      "pickup_date                 1 \n",
      "pickup_day                  1 \n",
      "pickup_hour                 1 \n",
      "Datetime                    0 \n",
      "pickup_latitude_round3      0 \n",
      "pickup_longitude_round3     0 \n",
      "dropoff_latitude_round3     0 \n",
      "dropoff_longitude_round3    0 \n",
      "is_pickup_JFK               0 \n",
      "is_dropoff_JFK              0 \n",
      "is_pickup_EWR               0 \n",
      "is_dropoff_EWR              0 \n",
      "is_pickup_la_guardia        0 \n",
      "is_dropoff_la_guardia       0 \n",
      "trip_distance               0 \n",
      "dtype: int64\n"
     ]
    }
   ],
   "source": [
    "print(df.isnull().sum())"
   ]
  },
  {
   "cell_type": "code",
   "execution_count": 70,
   "metadata": {},
   "outputs": [
    {
     "data": {
      "text/html": [
       "<div>\n",
       "<style scoped>\n",
       "    .dataframe tbody tr th:only-of-type {\n",
       "        vertical-align: middle;\n",
       "    }\n",
       "\n",
       "    .dataframe tbody tr th {\n",
       "        vertical-align: top;\n",
       "    }\n",
       "\n",
       "    .dataframe thead th {\n",
       "        text-align: right;\n",
       "    }\n",
       "</style>\n",
       "<table border=\"1\" class=\"dataframe\">\n",
       "  <thead>\n",
       "    <tr style=\"text-align: right;\">\n",
       "      <th></th>\n",
       "      <th>Variables</th>\n",
       "      <th>Missing_Percentage</th>\n",
       "    </tr>\n",
       "  </thead>\n",
       "  <tbody>\n",
       "    <tr>\n",
       "      <th>0</th>\n",
       "      <td>fare_amount</td>\n",
       "      <td>0.155608</td>\n",
       "    </tr>\n",
       "    <tr>\n",
       "      <th>1</th>\n",
       "      <td>pickup_datetime</td>\n",
       "      <td>0.006224</td>\n",
       "    </tr>\n",
       "    <tr>\n",
       "      <th>2</th>\n",
       "      <td>pickup_longitude</td>\n",
       "      <td>0.000000</td>\n",
       "    </tr>\n",
       "    <tr>\n",
       "      <th>3</th>\n",
       "      <td>pickup_latitude</td>\n",
       "      <td>0.000000</td>\n",
       "    </tr>\n",
       "    <tr>\n",
       "      <th>4</th>\n",
       "      <td>dropoff_longitude</td>\n",
       "      <td>0.000000</td>\n",
       "    </tr>\n",
       "    <tr>\n",
       "      <th>5</th>\n",
       "      <td>dropoff_latitude</td>\n",
       "      <td>0.000000</td>\n",
       "    </tr>\n",
       "    <tr>\n",
       "      <th>6</th>\n",
       "      <td>passenger_count</td>\n",
       "      <td>0.336114</td>\n",
       "    </tr>\n",
       "    <tr>\n",
       "      <th>7</th>\n",
       "      <td>pickup_date</td>\n",
       "      <td>0.006224</td>\n",
       "    </tr>\n",
       "    <tr>\n",
       "      <th>8</th>\n",
       "      <td>pickup_day</td>\n",
       "      <td>0.006224</td>\n",
       "    </tr>\n",
       "    <tr>\n",
       "      <th>9</th>\n",
       "      <td>pickup_hour</td>\n",
       "      <td>0.006224</td>\n",
       "    </tr>\n",
       "  </tbody>\n",
       "</table>\n",
       "</div>"
      ],
      "text/plain": [
       "           Variables  Missing_Percentage\n",
       "0  fare_amount        0.155608          \n",
       "1  pickup_datetime    0.006224          \n",
       "2  pickup_longitude   0.000000          \n",
       "3  pickup_latitude    0.000000          \n",
       "4  dropoff_longitude  0.000000          \n",
       "5  dropoff_latitude   0.000000          \n",
       "6  passenger_count    0.336114          \n",
       "7  pickup_date        0.006224          \n",
       "8  pickup_day         0.006224          \n",
       "9  pickup_hour        0.006224          "
      ]
     },
     "execution_count": 70,
     "metadata": {},
     "output_type": "execute_result"
    }
   ],
   "source": [
    "# Missing value Analysis\n",
    "missing_val = pd.DataFrame(df.isnull().sum())\n",
    "# Reset Index\n",
    "missing_val = missing_val.reset_index()\n",
    "# Rename variable\n",
    "missing_val = missing_val.rename(columns = {'index': 'Variables', 0: 'Missing_Percentage'})\n",
    "# Calculate Percentage\n",
    "missing_val['Missing_Percentage'] = (missing_val['Missing_Percentage']/len(df))*100\n",
    "missing_val"
   ]
  },
  {
   "cell_type": "code",
   "execution_count": 76,
   "metadata": {},
   "outputs": [],
   "source": [
    "# Sort in Descending Order\n",
    "missing_val = missing_val.sort_values('Missing_Percentage', ascending = False).reset_index(drop = True)"
   ]
  },
  {
   "cell_type": "code",
   "execution_count": 77,
   "metadata": {},
   "outputs": [
    {
     "data": {
      "text/html": [
       "<div>\n",
       "<style scoped>\n",
       "    .dataframe tbody tr th:only-of-type {\n",
       "        vertical-align: middle;\n",
       "    }\n",
       "\n",
       "    .dataframe tbody tr th {\n",
       "        vertical-align: top;\n",
       "    }\n",
       "\n",
       "    .dataframe thead th {\n",
       "        text-align: right;\n",
       "    }\n",
       "</style>\n",
       "<table border=\"1\" class=\"dataframe\">\n",
       "  <thead>\n",
       "    <tr style=\"text-align: right;\">\n",
       "      <th></th>\n",
       "      <th>Variables</th>\n",
       "      <th>Missing_Percentage</th>\n",
       "    </tr>\n",
       "  </thead>\n",
       "  <tbody>\n",
       "    <tr>\n",
       "      <th>0</th>\n",
       "      <td>passenger_count</td>\n",
       "      <td>0.336114</td>\n",
       "    </tr>\n",
       "    <tr>\n",
       "      <th>1</th>\n",
       "      <td>fare_amount</td>\n",
       "      <td>0.155608</td>\n",
       "    </tr>\n",
       "    <tr>\n",
       "      <th>2</th>\n",
       "      <td>pickup_datetime</td>\n",
       "      <td>0.006224</td>\n",
       "    </tr>\n",
       "    <tr>\n",
       "      <th>3</th>\n",
       "      <td>pickup_date</td>\n",
       "      <td>0.006224</td>\n",
       "    </tr>\n",
       "    <tr>\n",
       "      <th>4</th>\n",
       "      <td>pickup_day</td>\n",
       "      <td>0.006224</td>\n",
       "    </tr>\n",
       "    <tr>\n",
       "      <th>5</th>\n",
       "      <td>pickup_hour</td>\n",
       "      <td>0.006224</td>\n",
       "    </tr>\n",
       "    <tr>\n",
       "      <th>6</th>\n",
       "      <td>pickup_longitude</td>\n",
       "      <td>0.000000</td>\n",
       "    </tr>\n",
       "    <tr>\n",
       "      <th>7</th>\n",
       "      <td>pickup_latitude</td>\n",
       "      <td>0.000000</td>\n",
       "    </tr>\n",
       "    <tr>\n",
       "      <th>8</th>\n",
       "      <td>dropoff_longitude</td>\n",
       "      <td>0.000000</td>\n",
       "    </tr>\n",
       "    <tr>\n",
       "      <th>9</th>\n",
       "      <td>dropoff_latitude</td>\n",
       "      <td>0.000000</td>\n",
       "    </tr>\n",
       "  </tbody>\n",
       "</table>\n",
       "</div>"
      ],
      "text/plain": [
       "           Variables  Missing_Percentage\n",
       "0  passenger_count    0.336114          \n",
       "1  fare_amount        0.155608          \n",
       "2  pickup_datetime    0.006224          \n",
       "3  pickup_date        0.006224          \n",
       "4  pickup_day         0.006224          \n",
       "5  pickup_hour        0.006224          \n",
       "6  pickup_longitude   0.000000          \n",
       "7  pickup_latitude    0.000000          \n",
       "8  dropoff_longitude  0.000000          \n",
       "9  dropoff_latitude   0.000000          "
      ]
     },
     "execution_count": 77,
     "metadata": {},
     "output_type": "execute_result"
    }
   ],
   "source": []
  },
  {
   "cell_type": "code",
   "execution_count": 79,
   "metadata": {},
   "outputs": [],
   "source": [
    "# Imputation with median \n",
    "df['passenger_count'] = df['passenger_count'].fillna(df['passenger_count'].median())\n"
   ]
  },
  {
   "cell_type": "code",
   "execution_count": 105,
   "metadata": {},
   "outputs": [
    {
     "name": "stdout",
     "output_type": "stream",
     "text": [
      "Fare Amount mean and median (15.005490196078272, 8.5)\n",
      "fare_amount          0\n",
      "pickup_datetime      0\n",
      "pickup_longitude     0\n",
      "pickup_latitude      0\n",
      "dropoff_longitude    0\n",
      "dropoff_latitude     0\n",
      "passenger_count      0\n",
      "pickup_date          0\n",
      "pickup_day           0\n",
      "pickup_hour          0\n",
      "dtype: int64\n"
     ]
    }
   ],
   "source": [
    "# For Imputing the Fare amount Let's us check the values for both mean and the median\n",
    "print('Fare Amount mean and median',(df['fare_amount'].mean(),df['fare_amount'].median()))\n",
    "# As the Median is low and we also observed in our histogram that most of the values lies under 10.00$. \n",
    "# Let's Impute, The Fare Amount with the mean\n",
    "# Now we are left with just the date column, we know imputation won't be good idea for the date. So, we can remove that.\n",
    "df = df.dropna(how='any',axis=0)\n",
    "print(df.isnull().sum())"
   ]
  },
  {
   "cell_type": "code",
   "execution_count": 109,
   "metadata": {},
   "outputs": [],
   "source": [
    "def add_travel_vector_features(df):\n",
    "    df['abs_diff_longitude'] = (df.dropoff_longitude - df.pickup_longitude).abs()\n",
    "    df['abs_diff_latitude'] = (df.dropoff_latitude - df.pickup_latitude).abs()\n",
    "\n",
    "add_travel_vector_features(df)"
   ]
  },
  {
   "cell_type": "code",
   "execution_count": 110,
   "metadata": {},
   "outputs": [
    {
     "name": "stdout",
     "output_type": "stream",
     "text": [
      "(16065, 3)\n",
      "(16065,)\n"
     ]
    }
   ],
   "source": [
    "# Construct and return an Nx3 input matrix for our linear model\n",
    "# using the travel vector, plus a 1.0 for a constant bias term.\n",
    "def get_input_matrix(df):\n",
    "    return np.column_stack((df.abs_diff_longitude, df.abs_diff_latitude, np.ones(len(df))))\n",
    "\n",
    "train_X = get_input_matrix(df)\n",
    "train_y = np.array(df['fare_amount'])\n",
    "\n",
    "print(train_X.shape)\n",
    "print(train_y.shape)"
   ]
  },
  {
   "cell_type": "markdown",
   "metadata": {},
   "source": [
    "# Now let's use numpy's lstsq library function to find the optimal weight column  "
   ]
  },
  {
   "cell_type": "code",
   "execution_count": 113,
   "metadata": {},
   "outputs": [
    {
     "name": "stdout",
     "output_type": "stream",
     "text": [
      "[ 0.06742012 -0.0224985  14.99877496]\n"
     ]
    }
   ],
   "source": [
    "# The lstsq function returns several things, and we only care about the actual weight vector w.\n",
    "\n",
    "(w, _, _, _) = np.linalg.lstsq(train_X, train_y, rcond = None)\n",
    "print(w)"
   ]
  },
  {
   "cell_type": "code",
   "execution_count": 114,
   "metadata": {},
   "outputs": [],
   "source": [
    "# These points pass a quick reality check, since we'd expect two values. The weights for the absolute longitude and latitude differences- to be positive, as more ditances should imply higher fare and we'd expect the bias term to loosly represent the costof a very short ride"
   ]
  },
  {
   "cell_type": "code",
   "execution_count": 115,
   "metadata": {},
   "outputs": [],
   "source": [
    "# We would be able to Calculate OLS and also check for the seberity of multicollinearity."
   ]
  },
  {
   "cell_type": "code",
   "execution_count": 117,
   "metadata": {},
   "outputs": [
    {
     "name": "stdout",
     "output_type": "stream",
     "text": [
      "[ 0.06742012 -0.0224985  14.99877496]\n"
     ]
    }
   ],
   "source": [
    "w_OLS = np.matmul(np.matmul(np.linalg.inv(np.matmul(train_X.T, train_X)), train_X.T), train_y)\n",
    "print(w_OLS)"
   ]
  },
  {
   "cell_type": "code",
   "execution_count": null,
   "metadata": {},
   "outputs": [],
   "source": []
  }
 ],
 "metadata": {
  "kernelspec": {
   "display_name": "Python 3",
   "language": "python",
   "name": "python3"
  },
  "language_info": {
   "codemirror_mode": {
    "name": "ipython",
    "version": 3
   },
   "file_extension": ".py",
   "mimetype": "text/x-python",
   "name": "python",
   "nbconvert_exporter": "python",
   "pygments_lexer": "ipython3",
   "version": "3.7.3"
  }
 },
 "nbformat": 4,
 "nbformat_minor": 2
}
